{
 "cells": [
  {
   "cell_type": "markdown",
   "metadata": {},
   "source": [
    "## Tree-like Device Topology Reconstruction Using Link Prediction Methods \n",
    "\n",
    "I worked on this research projects of a group of 3.\n",
    "\n",
    "The code below **ONLY** covers the part that I have worked on.\n",
    "- **This code only includes node2vec based model**\n",
    "\n",
    "\n",
    "- **Aim**: Find missing edges between routers and base station throught the microwave\n",
    "- **Dataset Used**: Huawei's tree-like mobile broadband topology dataset\n",
    "- **Model used**: \n",
    "    - **node2vec with logistic regression**\n",
    "    - **node2vec with Light GBM**\n",
    "    - SEAL\n",
    "    - HGCN "
   ]
  },
  {
   "cell_type": "code",
   "execution_count": 2,
   "metadata": {},
   "outputs": [],
   "source": [
    "import scipy\n",
    "import mat4py as mp\n",
    "from itertools import chain\n",
    "import math\n",
    "import random\n",
    "import os.path as osp\n",
    "import pandas as pd\n",
    "import numpy as np\n",
    "import networkx as nx\n",
    "import torch\n",
    "from torch_geometric import utils\n",
    "from torch_geometric.data import Data, InMemoryDataset, DataLoader\n",
    "from torch_geometric.data import InMemoryDataset\n",
    "from sklearn.metrics import roc_auc_score\n",
    "from scipy.sparse.csgraph import shortest_path\n",
    "import torch\n",
    "import torch.nn.functional as F\n",
    "from torch.nn import BCEWithLogitsLoss\n",
    "from torch.nn import ModuleList, Linear, Conv1d, MaxPool1d\n",
    "from torch_geometric.datasets import Planetoid\n",
    "from torch_geometric.nn import GCNConv, global_sort_pool\n",
    "from torch_geometric.data import Data, InMemoryDataset, DataLoader\n",
    "from torch_geometric.utils import (negative_sampling, add_self_loops,\n",
    "                                   train_test_split_edges, k_hop_subgraph,\n",
    "                                   to_scipy_sparse_matrix)\n",
    "import matplotlib.pyplot as plt\n",
    "\n",
    "from sklearn.manifold import TSNE\n",
    "from sklearn.model_selection import train_test_split\n",
    "from sklearn.linear_model import LogisticRegressionCV\n",
    "from sklearn.metrics import accuracy_score\n",
    "\n",
    "import os\n",
    "import networkx as nx\n",
    "import numpy as np\n",
    "import pandas as pd\n",
    "\n",
    "from stellargraph.data import BiasedRandomWalk\n",
    "from stellargraph import StellarGraph\n",
    "from stellargraph import datasets\n",
    "from IPython.display import display, HTML\n",
    "\n",
    "\n",
    "df_net = pd.read_csv(\"With_Super_Node_Remove_Duplicat.csv\")\n",
    "df_nodes = pd.read_csv(\"Nodes.csv\")\n",
    "G = nx.from_pandas_edgelist(df_net,'Source','Dest')\n",
    "node_list = list(df_nodes.index)\n",
    "adj_G = nx.to_numpy_matrix(G, nodelist = node_list)"
   ]
  },
  {
   "cell_type": "markdown",
   "metadata": {},
   "source": [
    "The Mobile broadband topology dataset from Huawei is about telecom device network. \n",
    "\n",
    "There are four types of devices in the network, which are **nodes**:\n",
    "1. Super-router\n",
    "2. Router\n",
    "3. Microwave \n",
    "4. Nodeb\n",
    "\n",
    "The information flow among devices is super-router to router, router to microwave and microwave to nodeb. There is one super-router in the network connecting all the routers, and one router will connect to multiple microwaves, and microwave can connect to microwaves as well as nodeb.\n",
    "\n",
    "**Edges are information flows among devices**. \n",
    "\n",
    "There are 5346 nodes in the network including one super-router. However, we found some nodes with two attributes, so we decided to consider them as noisy data and deleted these nodes with its related flows. After removing all the noisy data, there are 4619 nodes and 4677 edges in the network."
   ]
  },
  {
   "cell_type": "code",
   "execution_count": 3,
   "metadata": {},
   "outputs": [
    {
     "data": {
      "text/plain": [
       "(4619, 4619)"
      ]
     },
     "execution_count": 3,
     "metadata": {},
     "output_type": "execute_result"
    }
   ],
   "source": [
    "adj_G.shape"
   ]
  },
  {
   "cell_type": "code",
   "execution_count": 4,
   "metadata": {},
   "outputs": [],
   "source": [
    "\n",
    "import pandas as pd\n",
    "import numpy as np\n",
    "import random\n",
    "import networkx as nx\n",
    "from tqdm import tqdm\n",
    "import re\n",
    "import matplotlib.pyplot as plt\n",
    "\n",
    "from sklearn.linear_model import LogisticRegression\n",
    "from sklearn.metrics import classification_report, roc_auc_score\n",
    "from sklearn.model_selection import train_test_split\n",
    "from sklearn.metrics import confusion_matrix"
   ]
  },
  {
   "cell_type": "markdown",
   "metadata": {},
   "source": [
    "### Negative Samples"
   ]
  },
  {
   "cell_type": "code",
   "execution_count": 8,
   "metadata": {},
   "outputs": [
    {
     "name": "stderr",
     "output_type": "stream",
     "text": [
      "100%|██████████| 4619/4619 [50:49<00:00,  1.51it/s]\n"
     ]
    }
   ],
   "source": [
    "all_unconnected_pairs = []\n",
    "\n",
    "# traverse adjacency matrix\n",
    "offset = 0\n",
    "for i in tqdm(range(4619)):\n",
    "  for j in range(0,4619):\n",
    "    if i != j:\n",
    "      if nx.shortest_path_length(G, i, j) <=2:\n",
    "        if adj_G[i,j] == 0:\n",
    "          all_unconnected_pairs.append([node_list[i],node_list[j]])\n",
    "\n",
    "  offset = offset + 1"
   ]
  },
  {
   "cell_type": "code",
   "execution_count": 9,
   "metadata": {},
   "outputs": [
    {
     "data": {
      "text/plain": [
       "15456"
      ]
     },
     "execution_count": 9,
     "metadata": {},
     "output_type": "execute_result"
    }
   ],
   "source": [
    "len(all_unconnected_pairs)"
   ]
  },
  {
   "cell_type": "code",
   "execution_count": 10,
   "metadata": {},
   "outputs": [],
   "source": [
    "#Unconnected link -> make into dataframe \n",
    "node_1_unlinked = [i[0] for i in all_unconnected_pairs] #source node\n",
    "node_2_unlinked = [i[1] for i in all_unconnected_pairs] #dest node\n",
    "\n",
    "data = pd.DataFrame({'node_1':node_1_unlinked, \n",
    "                     'node_2':node_2_unlinked})\n",
    "\n",
    "# add target variable 'link'\n",
    "data['link'] = 0"
   ]
  },
  {
   "cell_type": "markdown",
   "metadata": {},
   "source": [
    "### Positive Samples"
   ]
  },
  {
   "cell_type": "markdown",
   "metadata": {},
   "source": [
    "we will randomly drop some of the edges from the graph. However, randomly removing edges may result in cutting off loosely connected nodes and fragments of the graph. This is something that we have to take care of. We have to make sure that in the process of dropping edges, all the nodes of the graph should remain connected.\n",
    "\n",
    "In the code block below, we will first check if dropping a node pair results in the splitting of the graph (number_connected_components > 1) or reduction in the number of nodes. If both things do not happen, then we drop that node pair and repeat the same process with the next node pair."
   ]
  },
  {
   "cell_type": "code",
   "execution_count": 11,
   "metadata": {},
   "outputs": [
    {
     "data": {
      "text/html": [
       "<div>\n",
       "<style scoped>\n",
       "    .dataframe tbody tr th:only-of-type {\n",
       "        vertical-align: middle;\n",
       "    }\n",
       "\n",
       "    .dataframe tbody tr th {\n",
       "        vertical-align: top;\n",
       "    }\n",
       "\n",
       "    .dataframe thead th {\n",
       "        text-align: right;\n",
       "    }\n",
       "</style>\n",
       "<table border=\"1\" class=\"dataframe\">\n",
       "  <thead>\n",
       "    <tr style=\"text-align: right;\">\n",
       "      <th></th>\n",
       "      <th>node_1</th>\n",
       "      <th>node_2</th>\n",
       "    </tr>\n",
       "  </thead>\n",
       "  <tbody>\n",
       "    <tr>\n",
       "      <th>0</th>\n",
       "      <td>1002</td>\n",
       "      <td>0</td>\n",
       "    </tr>\n",
       "    <tr>\n",
       "      <th>1</th>\n",
       "      <td>2333</td>\n",
       "      <td>0</td>\n",
       "    </tr>\n",
       "    <tr>\n",
       "      <th>2</th>\n",
       "      <td>1436</td>\n",
       "      <td>0</td>\n",
       "    </tr>\n",
       "    <tr>\n",
       "      <th>3</th>\n",
       "      <td>2181</td>\n",
       "      <td>0</td>\n",
       "    </tr>\n",
       "    <tr>\n",
       "      <th>4</th>\n",
       "      <td>2279</td>\n",
       "      <td>0</td>\n",
       "    </tr>\n",
       "  </tbody>\n",
       "</table>\n",
       "</div>"
      ],
      "text/plain": [
       "   node_1  node_2\n",
       "0    1002       0\n",
       "1    2333       0\n",
       "2    1436       0\n",
       "3    2181       0\n",
       "4    2279       0"
      ]
     },
     "execution_count": 11,
     "metadata": {},
     "output_type": "execute_result"
    }
   ],
   "source": [
    "hw_df = pd.DataFrame(pd.concat([df_net['Source'], df_net['Dest']],axis=1))\n",
    "hw_df.rename(columns = {'Source':'node_1', 'Dest':'node_2'}, inplace=True)\n",
    "hw_df.head()"
   ]
  },
  {
   "cell_type": "code",
   "execution_count": 12,
   "metadata": {},
   "outputs": [
    {
     "name": "stderr",
     "output_type": "stream",
     "text": [
      "100%|██████████| 17983/17983 [12:16<00:00, 24.42it/s]\n"
     ]
    }
   ],
   "source": [
    "initial_node_count = len(G.nodes)\n",
    "\n",
    "hw_df_temp = hw_df.copy()\n",
    "\n",
    "# empty list to store removable links\n",
    "omissible_links_index = []\n",
    "\n",
    "for i in tqdm(range(17983)):\n",
    "  \n",
    "  # remove a node pair and build a new graph\n",
    "  G_temp = nx.from_pandas_edgelist(hw_df_temp.drop(index = i), \"node_1\", \"node_2\", create_using=nx.Graph())\n",
    "  \n",
    "  # check there is no spliting of graph and number of nodes is same\n",
    "  if (nx.number_connected_components(G_temp) == 1) and (len(G_temp.nodes) == initial_node_count):\n",
    "    omissible_links_index.append(i)\n",
    "    hw_df_temp = hw_df_temp.drop(index = i)"
   ]
  },
  {
   "cell_type": "code",
   "execution_count": 13,
   "metadata": {},
   "outputs": [
    {
     "data": {
      "text/plain": [
       "13365"
      ]
     },
     "execution_count": 13,
     "metadata": {},
     "output_type": "execute_result"
    }
   ],
   "source": [
    "len(omissible_links_index)"
   ]
  },
  {
   "cell_type": "code",
   "execution_count": 14,
   "metadata": {},
   "outputs": [],
   "source": [
    "# create dataframe of removable edges\n",
    "hw_df_ghost = hw_df.loc[omissible_links_index]\n",
    "\n",
    "# add the target variable 'link'\n",
    "hw_df_ghost['link'] = 1\n",
    "\n",
    "data = data.append(hw_df_ghost[['node_1', 'node_2', 'link']], ignore_index=True)"
   ]
  },
  {
   "cell_type": "code",
   "execution_count": 15,
   "metadata": {},
   "outputs": [
    {
     "data": {
      "text/plain": [
       "0    15456\n",
       "1    13365\n",
       "Name: link, dtype: int64"
      ]
     },
     "execution_count": 15,
     "metadata": {},
     "output_type": "execute_result"
    }
   ],
   "source": [
    "data['link'].value_counts()"
   ]
  },
  {
   "cell_type": "markdown",
   "metadata": {},
   "source": [
    "## Feature Extraction ; node2vec\n",
    "\n",
    "\n",
    "node2vec is a framework for learning continuous feature representations for nodes in networks. It maps nodes into low dimension using random walks that maximizes likelihood optimization problem.\n",
    "\n",
    "One of the important parameters for node2vec is p and q that guides the walk. p is the return parameter and q is the in-out parameter."
   ]
  },
  {
   "cell_type": "code",
   "execution_count": 16,
   "metadata": {},
   "outputs": [],
   "source": [
    "# drop removable edges\n",
    "hw_df_partial = hw_df.drop(index=hw_df_ghost.index.values)\n",
    "\n",
    "# build graph\n",
    "G_data = nx.from_pandas_edgelist(hw_df_partial, \"node_1\", \"node_2\", create_using=nx.Graph())"
   ]
  },
  {
   "cell_type": "code",
   "execution_count": 17,
   "metadata": {},
   "outputs": [
    {
     "name": "stderr",
     "output_type": "stream",
     "text": [
      "Computing transition probabilities: 100%|██████████| 4619/4619 [00:00<00:00, 17323.17it/s]\n",
      "Generating walks (CPU: 1): 100%|██████████| 50/50 [02:08<00:00,  2.62s/it]\n"
     ]
    }
   ],
   "source": [
    "from node2vec import Node2Vec\n",
    "\n",
    "# Generate walks\n",
    "node2vec = Node2Vec(G_data, dimensions=100, walk_length=16, num_walks=50)\n",
    "\n",
    "# train node2vec model\n",
    "n2w_model = node2vec.fit(window=7, min_count=1)"
   ]
  },
  {
   "cell_type": "markdown",
   "metadata": {},
   "source": [
    "we will apply the trained node2vec model on each and every node pair in the dataframe ‘data’. To compute the features of a pair or an edge, we will add up the features of the nodes in that pair:"
   ]
  },
  {
   "cell_type": "code",
   "execution_count": 18,
   "metadata": {},
   "outputs": [
    {
     "name": "stderr",
     "output_type": "stream",
     "text": [
      "/Users/kanghyojeong/anaconda3/lib/python3.6/site-packages/ipykernel_launcher.py:1: DeprecationWarning: Call to deprecated `__getitem__` (Method will be removed in 4.0.0, use self.wv.__getitem__() instead).\n",
      "  \"\"\"Entry point for launching an IPython kernel.\n"
     ]
    }
   ],
   "source": [
    "x = [(n2w_model[str(i)]+n2w_model[str(j)]) for i,j in zip(data['node_1'], data['node_2'])]"
   ]
  },
  {
   "cell_type": "markdown",
   "metadata": {},
   "source": [
    "## Link Prediction Model"
   ]
  },
  {
   "cell_type": "code",
   "execution_count": 19,
   "metadata": {},
   "outputs": [],
   "source": [
    "xtrain, xtest, ytrain, ytest = train_test_split(np.array(x), data['link'], \n",
    "                                                test_size = 0.3, \n",
    "                                                random_state = 35)"
   ]
  },
  {
   "cell_type": "markdown",
   "metadata": {},
   "source": [
    "### 1. logistic regression"
   ]
  },
  {
   "cell_type": "code",
   "execution_count": 20,
   "metadata": {},
   "outputs": [
    {
     "name": "stderr",
     "output_type": "stream",
     "text": [
      "/Users/kanghyojeong/anaconda3/lib/python3.6/site-packages/sklearn/linear_model/logistic.py:433: FutureWarning: Default solver will be changed to 'lbfgs' in 0.22. Specify a solver to silence this warning.\n",
      "  FutureWarning)\n"
     ]
    },
    {
     "data": {
      "text/plain": [
       "LogisticRegression(C=1.0, class_weight='balanced', dual=False,\n",
       "          fit_intercept=True, intercept_scaling=1, max_iter=100,\n",
       "          multi_class='warn', n_jobs=None, penalty='l2', random_state=None,\n",
       "          solver='warn', tol=0.0001, verbose=0, warm_start=False)"
      ]
     },
     "execution_count": 20,
     "metadata": {},
     "output_type": "execute_result"
    }
   ],
   "source": [
    "\n",
    "lr = LogisticRegression(class_weight=\"balanced\")\n",
    "\n",
    "lr.fit(xtrain, ytrain)"
   ]
  },
  {
   "cell_type": "code",
   "execution_count": 21,
   "metadata": {},
   "outputs": [],
   "source": [
    "predictions = lr.predict_proba(xtest)\n",
    "predictions_train = lr.predict_proba(xtrain)"
   ]
  },
  {
   "cell_type": "code",
   "execution_count": 22,
   "metadata": {},
   "outputs": [
    {
     "data": {
      "text/plain": [
       "0.8149781854383504"
      ]
     },
     "execution_count": 22,
     "metadata": {},
     "output_type": "execute_result"
    }
   ],
   "source": [
    "roc_auc_score(ytrain, predictions_train[:,1])"
   ]
  },
  {
   "cell_type": "code",
   "execution_count": 23,
   "metadata": {},
   "outputs": [
    {
     "data": {
      "text/plain": [
       "0.8067385324287026"
      ]
     },
     "execution_count": 23,
     "metadata": {},
     "output_type": "execute_result"
    }
   ],
   "source": [
    "roc_auc_score(ytest, predictions[:,1])\n"
   ]
  },
  {
   "cell_type": "markdown",
   "metadata": {},
   "source": [
    "### 2. lgbm"
   ]
  },
  {
   "cell_type": "code",
   "execution_count": 24,
   "metadata": {},
   "outputs": [
    {
     "name": "stdout",
     "output_type": "stream",
     "text": [
      "[1]\tvalid_0's auc: 0.825339\n",
      "Training until validation scores don't improve for 20 rounds\n",
      "[2]\tvalid_0's auc: 0.862627\n",
      "[3]\tvalid_0's auc: 0.879742\n",
      "[4]\tvalid_0's auc: 0.88872\n",
      "[5]\tvalid_0's auc: 0.8957\n",
      "[6]\tvalid_0's auc: 0.898455\n",
      "[7]\tvalid_0's auc: 0.903065\n",
      "[8]\tvalid_0's auc: 0.906674\n",
      "[9]\tvalid_0's auc: 0.908454\n",
      "[10]\tvalid_0's auc: 0.911611\n",
      "[11]\tvalid_0's auc: 0.913355\n",
      "[12]\tvalid_0's auc: 0.915448\n",
      "[13]\tvalid_0's auc: 0.917782\n",
      "[14]\tvalid_0's auc: 0.919124\n",
      "[15]\tvalid_0's auc: 0.921506\n",
      "[16]\tvalid_0's auc: 0.922407\n",
      "[17]\tvalid_0's auc: 0.923376\n",
      "[18]\tvalid_0's auc: 0.924301\n",
      "[19]\tvalid_0's auc: 0.925784\n",
      "[20]\tvalid_0's auc: 0.926643\n",
      "[21]\tvalid_0's auc: 0.928504\n",
      "[22]\tvalid_0's auc: 0.930029\n",
      "[23]\tvalid_0's auc: 0.931174\n",
      "[24]\tvalid_0's auc: 0.932253\n",
      "[25]\tvalid_0's auc: 0.933456\n",
      "[26]\tvalid_0's auc: 0.934536\n",
      "[27]\tvalid_0's auc: 0.93511\n",
      "[28]\tvalid_0's auc: 0.935931\n",
      "[29]\tvalid_0's auc: 0.936777\n",
      "[30]\tvalid_0's auc: 0.93726\n",
      "[31]\tvalid_0's auc: 0.938171\n",
      "[32]\tvalid_0's auc: 0.939204\n",
      "[33]\tvalid_0's auc: 0.939623\n",
      "[34]\tvalid_0's auc: 0.940272\n",
      "[35]\tvalid_0's auc: 0.940847\n",
      "[36]\tvalid_0's auc: 0.941554\n",
      "[37]\tvalid_0's auc: 0.942333\n",
      "[38]\tvalid_0's auc: 0.942507\n",
      "[39]\tvalid_0's auc: 0.942971\n",
      "[40]\tvalid_0's auc: 0.943548\n",
      "[41]\tvalid_0's auc: 0.944217\n",
      "[42]\tvalid_0's auc: 0.945182\n",
      "[43]\tvalid_0's auc: 0.945903\n",
      "[44]\tvalid_0's auc: 0.946339\n",
      "[45]\tvalid_0's auc: 0.94696\n",
      "[46]\tvalid_0's auc: 0.947521\n",
      "[47]\tvalid_0's auc: 0.948089\n",
      "[48]\tvalid_0's auc: 0.9485\n",
      "[49]\tvalid_0's auc: 0.948891\n",
      "[50]\tvalid_0's auc: 0.949404\n",
      "[51]\tvalid_0's auc: 0.949691\n",
      "[52]\tvalid_0's auc: 0.949989\n",
      "[53]\tvalid_0's auc: 0.950365\n",
      "[54]\tvalid_0's auc: 0.950593\n",
      "[55]\tvalid_0's auc: 0.951085\n",
      "[56]\tvalid_0's auc: 0.951608\n",
      "[57]\tvalid_0's auc: 0.952014\n",
      "[58]\tvalid_0's auc: 0.952512\n",
      "[59]\tvalid_0's auc: 0.952921\n",
      "[60]\tvalid_0's auc: 0.953256\n",
      "[61]\tvalid_0's auc: 0.953527\n",
      "[62]\tvalid_0's auc: 0.953994\n",
      "[63]\tvalid_0's auc: 0.954474\n",
      "[64]\tvalid_0's auc: 0.954813\n",
      "[65]\tvalid_0's auc: 0.955015\n",
      "[66]\tvalid_0's auc: 0.955296\n",
      "[67]\tvalid_0's auc: 0.955566\n",
      "[68]\tvalid_0's auc: 0.955769\n",
      "[69]\tvalid_0's auc: 0.956174\n",
      "[70]\tvalid_0's auc: 0.956514\n",
      "[71]\tvalid_0's auc: 0.956702\n",
      "[72]\tvalid_0's auc: 0.956968\n",
      "[73]\tvalid_0's auc: 0.957281\n",
      "[74]\tvalid_0's auc: 0.957551\n",
      "[75]\tvalid_0's auc: 0.957835\n",
      "[76]\tvalid_0's auc: 0.958091\n",
      "[77]\tvalid_0's auc: 0.958258\n",
      "[78]\tvalid_0's auc: 0.958552\n",
      "[79]\tvalid_0's auc: 0.958764\n",
      "[80]\tvalid_0's auc: 0.958978\n",
      "[81]\tvalid_0's auc: 0.959276\n",
      "[82]\tvalid_0's auc: 0.959496\n",
      "[83]\tvalid_0's auc: 0.959818\n",
      "[84]\tvalid_0's auc: 0.95994\n",
      "[85]\tvalid_0's auc: 0.9602\n",
      "[86]\tvalid_0's auc: 0.960425\n",
      "[87]\tvalid_0's auc: 0.960704\n",
      "[88]\tvalid_0's auc: 0.960816\n",
      "[89]\tvalid_0's auc: 0.961148\n",
      "[90]\tvalid_0's auc: 0.961373\n",
      "[91]\tvalid_0's auc: 0.961526\n",
      "[92]\tvalid_0's auc: 0.961553\n",
      "[93]\tvalid_0's auc: 0.961629\n",
      "[94]\tvalid_0's auc: 0.961893\n",
      "[95]\tvalid_0's auc: 0.961992\n",
      "[96]\tvalid_0's auc: 0.962226\n",
      "[97]\tvalid_0's auc: 0.962293\n",
      "[98]\tvalid_0's auc: 0.96238\n",
      "[99]\tvalid_0's auc: 0.962542\n",
      "[100]\tvalid_0's auc: 0.962587\n",
      "[101]\tvalid_0's auc: 0.962854\n",
      "[102]\tvalid_0's auc: 0.962996\n",
      "[103]\tvalid_0's auc: 0.96324\n",
      "[104]\tvalid_0's auc: 0.96344\n",
      "[105]\tvalid_0's auc: 0.963804\n",
      "[106]\tvalid_0's auc: 0.964053\n",
      "[107]\tvalid_0's auc: 0.964194\n",
      "[108]\tvalid_0's auc: 0.964421\n",
      "[109]\tvalid_0's auc: 0.964537\n",
      "[110]\tvalid_0's auc: 0.964602\n",
      "[111]\tvalid_0's auc: 0.964797\n",
      "[112]\tvalid_0's auc: 0.964964\n",
      "[113]\tvalid_0's auc: 0.965111\n",
      "[114]\tvalid_0's auc: 0.965258\n",
      "[115]\tvalid_0's auc: 0.965479\n",
      "[116]\tvalid_0's auc: 0.965574\n",
      "[117]\tvalid_0's auc: 0.965814\n",
      "[118]\tvalid_0's auc: 0.965987\n",
      "[119]\tvalid_0's auc: 0.966156\n",
      "[120]\tvalid_0's auc: 0.966331\n",
      "[121]\tvalid_0's auc: 0.966584\n",
      "[122]\tvalid_0's auc: 0.966714\n",
      "[123]\tvalid_0's auc: 0.966894\n",
      "[124]\tvalid_0's auc: 0.967142\n",
      "[125]\tvalid_0's auc: 0.96733\n",
      "[126]\tvalid_0's auc: 0.967524\n",
      "[127]\tvalid_0's auc: 0.967547\n",
      "[128]\tvalid_0's auc: 0.967692\n",
      "[129]\tvalid_0's auc: 0.967806\n",
      "[130]\tvalid_0's auc: 0.967826\n",
      "[131]\tvalid_0's auc: 0.967935\n",
      "[132]\tvalid_0's auc: 0.968035\n",
      "[133]\tvalid_0's auc: 0.968058\n",
      "[134]\tvalid_0's auc: 0.968172\n",
      "[135]\tvalid_0's auc: 0.968185\n",
      "[136]\tvalid_0's auc: 0.968383\n",
      "[137]\tvalid_0's auc: 0.968419\n",
      "[138]\tvalid_0's auc: 0.968409\n",
      "[139]\tvalid_0's auc: 0.968518\n",
      "[140]\tvalid_0's auc: 0.968624\n",
      "[141]\tvalid_0's auc: 0.968811\n",
      "[142]\tvalid_0's auc: 0.968942\n",
      "[143]\tvalid_0's auc: 0.969112\n",
      "[144]\tvalid_0's auc: 0.969199\n",
      "[145]\tvalid_0's auc: 0.96932\n",
      "[146]\tvalid_0's auc: 0.969401\n",
      "[147]\tvalid_0's auc: 0.96949\n",
      "[148]\tvalid_0's auc: 0.969565\n",
      "[149]\tvalid_0's auc: 0.969603\n",
      "[150]\tvalid_0's auc: 0.969677\n",
      "[151]\tvalid_0's auc: 0.969773\n",
      "[152]\tvalid_0's auc: 0.969877\n",
      "[153]\tvalid_0's auc: 0.969851\n",
      "[154]\tvalid_0's auc: 0.969893\n",
      "[155]\tvalid_0's auc: 0.969993\n",
      "[156]\tvalid_0's auc: 0.970087\n",
      "[157]\tvalid_0's auc: 0.970144\n",
      "[158]\tvalid_0's auc: 0.970223\n",
      "[159]\tvalid_0's auc: 0.970252\n",
      "[160]\tvalid_0's auc: 0.970246\n",
      "[161]\tvalid_0's auc: 0.970439\n",
      "[162]\tvalid_0's auc: 0.970683\n",
      "[163]\tvalid_0's auc: 0.970792\n",
      "[164]\tvalid_0's auc: 0.970839\n",
      "[165]\tvalid_0's auc: 0.970905\n",
      "[166]\tvalid_0's auc: 0.971086\n",
      "[167]\tvalid_0's auc: 0.971158\n",
      "[168]\tvalid_0's auc: 0.971275\n",
      "[169]\tvalid_0's auc: 0.971418\n",
      "[170]\tvalid_0's auc: 0.971398\n",
      "[171]\tvalid_0's auc: 0.971414\n",
      "[172]\tvalid_0's auc: 0.971505\n",
      "[173]\tvalid_0's auc: 0.971547\n",
      "[174]\tvalid_0's auc: 0.971638\n",
      "[175]\tvalid_0's auc: 0.971709\n",
      "[176]\tvalid_0's auc: 0.971827\n",
      "[177]\tvalid_0's auc: 0.97187\n",
      "[178]\tvalid_0's auc: 0.971921\n",
      "[179]\tvalid_0's auc: 0.971992\n",
      "[180]\tvalid_0's auc: 0.971969\n",
      "[181]\tvalid_0's auc: 0.972065\n",
      "[182]\tvalid_0's auc: 0.972287\n",
      "[183]\tvalid_0's auc: 0.972425\n",
      "[184]\tvalid_0's auc: 0.972559\n",
      "[185]\tvalid_0's auc: 0.972659\n",
      "[186]\tvalid_0's auc: 0.972795\n",
      "[187]\tvalid_0's auc: 0.972906\n",
      "[188]\tvalid_0's auc: 0.9729\n",
      "[189]\tvalid_0's auc: 0.972966\n",
      "[190]\tvalid_0's auc: 0.973005\n",
      "[191]\tvalid_0's auc: 0.973047\n",
      "[192]\tvalid_0's auc: 0.973125\n",
      "[193]\tvalid_0's auc: 0.973184\n",
      "[194]\tvalid_0's auc: 0.973268\n",
      "[195]\tvalid_0's auc: 0.973305\n",
      "[196]\tvalid_0's auc: 0.973346\n",
      "[197]\tvalid_0's auc: 0.97343\n",
      "[198]\tvalid_0's auc: 0.973491\n",
      "[199]\tvalid_0's auc: 0.973551\n",
      "[200]\tvalid_0's auc: 0.973567\n",
      "[201]\tvalid_0's auc: 0.973698\n",
      "[202]\tvalid_0's auc: 0.97379\n",
      "[203]\tvalid_0's auc: 0.973958\n",
      "[204]\tvalid_0's auc: 0.973978\n",
      "[205]\tvalid_0's auc: 0.974028\n",
      "[206]\tvalid_0's auc: 0.97414\n",
      "[207]\tvalid_0's auc: 0.97422\n",
      "[208]\tvalid_0's auc: 0.974223\n",
      "[209]\tvalid_0's auc: 0.974261\n",
      "[210]\tvalid_0's auc: 0.974268\n",
      "[211]\tvalid_0's auc: 0.9744\n",
      "[212]\tvalid_0's auc: 0.974475\n",
      "[213]\tvalid_0's auc: 0.974493\n",
      "[214]\tvalid_0's auc: 0.974499\n",
      "[215]\tvalid_0's auc: 0.974542\n",
      "[216]\tvalid_0's auc: 0.974584\n",
      "[217]\tvalid_0's auc: 0.974626\n",
      "[218]\tvalid_0's auc: 0.97469\n",
      "[219]\tvalid_0's auc: 0.974702\n",
      "[220]\tvalid_0's auc: 0.974776\n",
      "[221]\tvalid_0's auc: 0.974844\n",
      "[222]\tvalid_0's auc: 0.974934\n",
      "[223]\tvalid_0's auc: 0.975134\n",
      "[224]\tvalid_0's auc: 0.975232\n",
      "[225]\tvalid_0's auc: 0.975289\n",
      "[226]\tvalid_0's auc: 0.975345\n",
      "[227]\tvalid_0's auc: 0.975481\n",
      "[228]\tvalid_0's auc: 0.975541\n",
      "[229]\tvalid_0's auc: 0.975596\n",
      "[230]\tvalid_0's auc: 0.975615\n",
      "[231]\tvalid_0's auc: 0.975703\n",
      "[232]\tvalid_0's auc: 0.975746\n",
      "[233]\tvalid_0's auc: 0.975755\n",
      "[234]\tvalid_0's auc: 0.97584\n",
      "[235]\tvalid_0's auc: 0.975841\n",
      "[236]\tvalid_0's auc: 0.975887\n",
      "[237]\tvalid_0's auc: 0.975891\n",
      "[238]\tvalid_0's auc: 0.975997\n",
      "[239]\tvalid_0's auc: 0.976086\n",
      "[240]\tvalid_0's auc: 0.976094\n",
      "[241]\tvalid_0's auc: 0.976139\n",
      "[242]\tvalid_0's auc: 0.976176\n",
      "[243]\tvalid_0's auc: 0.976267\n",
      "[244]\tvalid_0's auc: 0.97637\n",
      "[245]\tvalid_0's auc: 0.976417\n",
      "[246]\tvalid_0's auc: 0.976496\n",
      "[247]\tvalid_0's auc: 0.976451\n",
      "[248]\tvalid_0's auc: 0.976547\n",
      "[249]\tvalid_0's auc: 0.976586\n",
      "[250]\tvalid_0's auc: 0.976669\n",
      "[251]\tvalid_0's auc: 0.9767\n",
      "[252]\tvalid_0's auc: 0.976756\n",
      "[253]\tvalid_0's auc: 0.976782\n",
      "[254]\tvalid_0's auc: 0.976771\n",
      "[255]\tvalid_0's auc: 0.976812\n",
      "[256]\tvalid_0's auc: 0.97688\n",
      "[257]\tvalid_0's auc: 0.976953\n",
      "[258]\tvalid_0's auc: 0.976981\n",
      "[259]\tvalid_0's auc: 0.976979\n",
      "[260]\tvalid_0's auc: 0.976957\n",
      "[261]\tvalid_0's auc: 0.977037\n",
      "[262]\tvalid_0's auc: 0.977064\n",
      "[263]\tvalid_0's auc: 0.97714\n",
      "[264]\tvalid_0's auc: 0.977138\n",
      "[265]\tvalid_0's auc: 0.977174\n",
      "[266]\tvalid_0's auc: 0.977269\n",
      "[267]\tvalid_0's auc: 0.977403\n",
      "[268]\tvalid_0's auc: 0.977426\n",
      "[269]\tvalid_0's auc: 0.977458\n",
      "[270]\tvalid_0's auc: 0.977492\n",
      "[271]\tvalid_0's auc: 0.977567\n",
      "[272]\tvalid_0's auc: 0.977551\n",
      "[273]\tvalid_0's auc: 0.977573\n",
      "[274]\tvalid_0's auc: 0.977538\n",
      "[275]\tvalid_0's auc: 0.977533\n",
      "[276]\tvalid_0's auc: 0.977542\n",
      "[277]\tvalid_0's auc: 0.977616\n",
      "[278]\tvalid_0's auc: 0.977603\n",
      "[279]\tvalid_0's auc: 0.977628\n",
      "[280]\tvalid_0's auc: 0.97761\n",
      "[281]\tvalid_0's auc: 0.977607\n",
      "[282]\tvalid_0's auc: 0.977628\n",
      "[283]\tvalid_0's auc: 0.977667\n",
      "[284]\tvalid_0's auc: 0.977715\n",
      "[285]\tvalid_0's auc: 0.977719\n",
      "[286]\tvalid_0's auc: 0.977785\n",
      "[287]\tvalid_0's auc: 0.977818\n",
      "[288]\tvalid_0's auc: 0.977884\n",
      "[289]\tvalid_0's auc: 0.97791\n",
      "[290]\tvalid_0's auc: 0.97794\n",
      "[291]\tvalid_0's auc: 0.97792\n",
      "[292]\tvalid_0's auc: 0.977968\n",
      "[293]\tvalid_0's auc: 0.977937\n",
      "[294]\tvalid_0's auc: 0.977963\n",
      "[295]\tvalid_0's auc: 0.978039\n",
      "[296]\tvalid_0's auc: 0.978067\n",
      "[297]\tvalid_0's auc: 0.978128\n",
      "[298]\tvalid_0's auc: 0.978115\n",
      "[299]\tvalid_0's auc: 0.978102\n",
      "[300]\tvalid_0's auc: 0.978097\n",
      "[301]\tvalid_0's auc: 0.978185\n",
      "[302]\tvalid_0's auc: 0.978219\n",
      "[303]\tvalid_0's auc: 0.978242\n",
      "[304]\tvalid_0's auc: 0.978272\n",
      "[305]\tvalid_0's auc: 0.978353\n",
      "[306]\tvalid_0's auc: 0.97842\n",
      "[307]\tvalid_0's auc: 0.978413\n",
      "[308]\tvalid_0's auc: 0.978438\n",
      "[309]\tvalid_0's auc: 0.97842\n",
      "[310]\tvalid_0's auc: 0.978401\n",
      "[311]\tvalid_0's auc: 0.978415\n",
      "[312]\tvalid_0's auc: 0.978458\n",
      "[313]\tvalid_0's auc: 0.978473\n",
      "[314]\tvalid_0's auc: 0.978469\n",
      "[315]\tvalid_0's auc: 0.978495\n",
      "[316]\tvalid_0's auc: 0.978525\n",
      "[317]\tvalid_0's auc: 0.978459\n",
      "[318]\tvalid_0's auc: 0.978485\n",
      "[319]\tvalid_0's auc: 0.978515\n",
      "[320]\tvalid_0's auc: 0.978469\n",
      "[321]\tvalid_0's auc: 0.978581\n",
      "[322]\tvalid_0's auc: 0.978669\n",
      "[323]\tvalid_0's auc: 0.978738\n",
      "[324]\tvalid_0's auc: 0.978758\n",
      "[325]\tvalid_0's auc: 0.978794\n",
      "[326]\tvalid_0's auc: 0.978853\n",
      "[327]\tvalid_0's auc: 0.978811\n",
      "[328]\tvalid_0's auc: 0.978808\n",
      "[329]\tvalid_0's auc: 0.978873\n",
      "[330]\tvalid_0's auc: 0.978867\n",
      "[331]\tvalid_0's auc: 0.97889\n",
      "[332]\tvalid_0's auc: 0.978896\n",
      "[333]\tvalid_0's auc: 0.978968\n",
      "[334]\tvalid_0's auc: 0.978949\n",
      "[335]\tvalid_0's auc: 0.978995\n",
      "[336]\tvalid_0's auc: 0.978987\n",
      "[337]\tvalid_0's auc: 0.97896\n",
      "[338]\tvalid_0's auc: 0.979032\n",
      "[339]\tvalid_0's auc: 0.97899\n",
      "[340]\tvalid_0's auc: 0.979015\n",
      "[341]\tvalid_0's auc: 0.979032\n",
      "[342]\tvalid_0's auc: 0.979053\n",
      "[343]\tvalid_0's auc: 0.979105\n",
      "[344]\tvalid_0's auc: 0.979119\n",
      "[345]\tvalid_0's auc: 0.979185\n",
      "[346]\tvalid_0's auc: 0.979215\n",
      "[347]\tvalid_0's auc: 0.979224\n",
      "[348]\tvalid_0's auc: 0.979305\n",
      "[349]\tvalid_0's auc: 0.979344\n",
      "[350]\tvalid_0's auc: 0.979358\n",
      "[351]\tvalid_0's auc: 0.97935\n",
      "[352]\tvalid_0's auc: 0.979342\n",
      "[353]\tvalid_0's auc: 0.979336\n",
      "[354]\tvalid_0's auc: 0.979386\n",
      "[355]\tvalid_0's auc: 0.979406\n",
      "[356]\tvalid_0's auc: 0.979372\n",
      "[357]\tvalid_0's auc: 0.979406\n",
      "[358]\tvalid_0's auc: 0.979407\n",
      "[359]\tvalid_0's auc: 0.979414\n",
      "[360]\tvalid_0's auc: 0.979379\n",
      "[361]\tvalid_0's auc: 0.979438\n",
      "[362]\tvalid_0's auc: 0.97943\n",
      "[363]\tvalid_0's auc: 0.97947\n",
      "[364]\tvalid_0's auc: 0.979521\n",
      "[365]\tvalid_0's auc: 0.979519\n",
      "[366]\tvalid_0's auc: 0.979597\n",
      "[367]\tvalid_0's auc: 0.979648\n",
      "[368]\tvalid_0's auc: 0.979654\n",
      "[369]\tvalid_0's auc: 0.979621\n",
      "[370]\tvalid_0's auc: 0.979691\n",
      "[371]\tvalid_0's auc: 0.979638\n",
      "[372]\tvalid_0's auc: 0.979671\n",
      "[373]\tvalid_0's auc: 0.979661\n",
      "[374]\tvalid_0's auc: 0.97965\n",
      "[375]\tvalid_0's auc: 0.979639\n",
      "[376]\tvalid_0's auc: 0.979662\n",
      "[377]\tvalid_0's auc: 0.979698\n",
      "[378]\tvalid_0's auc: 0.979748\n",
      "[379]\tvalid_0's auc: 0.979751\n",
      "[380]\tvalid_0's auc: 0.979732\n",
      "[381]\tvalid_0's auc: 0.979788\n",
      "[382]\tvalid_0's auc: 0.97983\n",
      "[383]\tvalid_0's auc: 0.979818\n",
      "[384]\tvalid_0's auc: 0.979812\n",
      "[385]\tvalid_0's auc: 0.979772\n",
      "[386]\tvalid_0's auc: 0.979733\n",
      "[387]\tvalid_0's auc: 0.979724\n",
      "[388]\tvalid_0's auc: 0.979772\n",
      "[389]\tvalid_0's auc: 0.979735\n",
      "[390]\tvalid_0's auc: 0.979813\n",
      "[391]\tvalid_0's auc: 0.979835\n",
      "[392]\tvalid_0's auc: 0.979827\n",
      "[393]\tvalid_0's auc: 0.979821\n",
      "[394]\tvalid_0's auc: 0.979796\n",
      "[395]\tvalid_0's auc: 0.979828\n",
      "[396]\tvalid_0's auc: 0.979826\n",
      "[397]\tvalid_0's auc: 0.979818\n",
      "[398]\tvalid_0's auc: 0.979839\n",
      "[399]\tvalid_0's auc: 0.979854\n",
      "[400]\tvalid_0's auc: 0.979866\n",
      "[401]\tvalid_0's auc: 0.979923\n",
      "[402]\tvalid_0's auc: 0.979957\n",
      "[403]\tvalid_0's auc: 0.979992\n",
      "[404]\tvalid_0's auc: 0.979997\n",
      "[405]\tvalid_0's auc: 0.979953\n",
      "[406]\tvalid_0's auc: 0.980012\n",
      "[407]\tvalid_0's auc: 0.980038\n",
      "[408]\tvalid_0's auc: 0.980075\n",
      "[409]\tvalid_0's auc: 0.980105\n",
      "[410]\tvalid_0's auc: 0.980171\n",
      "[411]\tvalid_0's auc: 0.980223\n",
      "[412]\tvalid_0's auc: 0.980262\n",
      "[413]\tvalid_0's auc: 0.980317\n",
      "[414]\tvalid_0's auc: 0.980281\n",
      "[415]\tvalid_0's auc: 0.98029\n",
      "[416]\tvalid_0's auc: 0.980275\n",
      "[417]\tvalid_0's auc: 0.980305\n",
      "[418]\tvalid_0's auc: 0.980284\n",
      "[419]\tvalid_0's auc: 0.980262\n",
      "[420]\tvalid_0's auc: 0.980306\n",
      "[421]\tvalid_0's auc: 0.980323\n",
      "[422]\tvalid_0's auc: 0.980368\n",
      "[423]\tvalid_0's auc: 0.980377\n",
      "[424]\tvalid_0's auc: 0.980411\n",
      "[425]\tvalid_0's auc: 0.980456\n",
      "[426]\tvalid_0's auc: 0.9805\n",
      "[427]\tvalid_0's auc: 0.980481\n",
      "[428]\tvalid_0's auc: 0.980456\n",
      "[429]\tvalid_0's auc: 0.980478\n",
      "[430]\tvalid_0's auc: 0.980483\n",
      "[431]\tvalid_0's auc: 0.980525\n",
      "[432]\tvalid_0's auc: 0.9805\n",
      "[433]\tvalid_0's auc: 0.98055\n",
      "[434]\tvalid_0's auc: 0.980561\n",
      "[435]\tvalid_0's auc: 0.980586\n",
      "[436]\tvalid_0's auc: 0.980576\n",
      "[437]\tvalid_0's auc: 0.980569\n",
      "[438]\tvalid_0's auc: 0.980585\n",
      "[439]\tvalid_0's auc: 0.980593\n",
      "[440]\tvalid_0's auc: 0.980633\n",
      "[441]\tvalid_0's auc: 0.980665\n",
      "[442]\tvalid_0's auc: 0.980693\n",
      "[443]\tvalid_0's auc: 0.980756\n",
      "[444]\tvalid_0's auc: 0.980814\n",
      "[445]\tvalid_0's auc: 0.980822\n",
      "[446]\tvalid_0's auc: 0.980821\n",
      "[447]\tvalid_0's auc: 0.980837\n",
      "[448]\tvalid_0's auc: 0.980848\n",
      "[449]\tvalid_0's auc: 0.980839\n",
      "[450]\tvalid_0's auc: 0.980828\n",
      "[451]\tvalid_0's auc: 0.980787\n",
      "[452]\tvalid_0's auc: 0.980809\n",
      "[453]\tvalid_0's auc: 0.980819\n",
      "[454]\tvalid_0's auc: 0.980851\n",
      "[455]\tvalid_0's auc: 0.980808\n",
      "[456]\tvalid_0's auc: 0.980789\n",
      "[457]\tvalid_0's auc: 0.980853\n",
      "[458]\tvalid_0's auc: 0.980819\n",
      "[459]\tvalid_0's auc: 0.980775\n",
      "[460]\tvalid_0's auc: 0.980768\n",
      "[461]\tvalid_0's auc: 0.980746\n",
      "[462]\tvalid_0's auc: 0.980761\n",
      "[463]\tvalid_0's auc: 0.98077\n",
      "[464]\tvalid_0's auc: 0.980738\n",
      "[465]\tvalid_0's auc: 0.980749\n",
      "[466]\tvalid_0's auc: 0.980781\n",
      "[467]\tvalid_0's auc: 0.980752\n",
      "[468]\tvalid_0's auc: 0.980756\n",
      "[469]\tvalid_0's auc: 0.980773\n",
      "[470]\tvalid_0's auc: 0.980797\n",
      "[471]\tvalid_0's auc: 0.980807\n",
      "[472]\tvalid_0's auc: 0.980838\n",
      "[473]\tvalid_0's auc: 0.980827\n",
      "[474]\tvalid_0's auc: 0.980826\n",
      "[475]\tvalid_0's auc: 0.980807\n",
      "[476]\tvalid_0's auc: 0.980829\n",
      "[477]\tvalid_0's auc: 0.98086\n",
      "[478]\tvalid_0's auc: 0.980884\n",
      "[479]\tvalid_0's auc: 0.980866\n",
      "[480]\tvalid_0's auc: 0.98084\n",
      "[481]\tvalid_0's auc: 0.980847\n",
      "[482]\tvalid_0's auc: 0.980836\n",
      "[483]\tvalid_0's auc: 0.980835\n",
      "[484]\tvalid_0's auc: 0.980791\n",
      "[485]\tvalid_0's auc: 0.980776\n",
      "[486]\tvalid_0's auc: 0.980828\n",
      "[487]\tvalid_0's auc: 0.980863\n",
      "[488]\tvalid_0's auc: 0.980886\n",
      "[489]\tvalid_0's auc: 0.980856\n",
      "[490]\tvalid_0's auc: 0.980837\n",
      "[491]\tvalid_0's auc: 0.980829\n",
      "[492]\tvalid_0's auc: 0.980827\n",
      "[493]\tvalid_0's auc: 0.980834\n",
      "[494]\tvalid_0's auc: 0.980811\n",
      "[495]\tvalid_0's auc: 0.980822\n",
      "[496]\tvalid_0's auc: 0.980796\n",
      "[497]\tvalid_0's auc: 0.980762\n",
      "[498]\tvalid_0's auc: 0.980754\n",
      "[499]\tvalid_0's auc: 0.980805\n",
      "[500]\tvalid_0's auc: 0.980801\n",
      "[501]\tvalid_0's auc: 0.980782\n",
      "[502]\tvalid_0's auc: 0.98082\n",
      "[503]\tvalid_0's auc: 0.980865\n",
      "[504]\tvalid_0's auc: 0.980889\n",
      "[505]\tvalid_0's auc: 0.98089\n",
      "[506]\tvalid_0's auc: 0.980866\n",
      "[507]\tvalid_0's auc: 0.980835\n",
      "[508]\tvalid_0's auc: 0.980867\n",
      "[509]\tvalid_0's auc: 0.98089\n",
      "[510]\tvalid_0's auc: 0.980885\n",
      "[511]\tvalid_0's auc: 0.980885\n",
      "[512]\tvalid_0's auc: 0.980887\n",
      "[513]\tvalid_0's auc: 0.980924\n",
      "[514]\tvalid_0's auc: 0.980941\n",
      "[515]\tvalid_0's auc: 0.980937\n",
      "[516]\tvalid_0's auc: 0.980929\n",
      "[517]\tvalid_0's auc: 0.980971\n",
      "[518]\tvalid_0's auc: 0.980946\n",
      "[519]\tvalid_0's auc: 0.980918\n",
      "[520]\tvalid_0's auc: 0.980914\n",
      "[521]\tvalid_0's auc: 0.980938\n",
      "[522]\tvalid_0's auc: 0.980921\n",
      "[523]\tvalid_0's auc: 0.980903\n",
      "[524]\tvalid_0's auc: 0.98095\n",
      "[525]\tvalid_0's auc: 0.980994\n",
      "[526]\tvalid_0's auc: 0.981007\n",
      "[527]\tvalid_0's auc: 0.981067\n",
      "[528]\tvalid_0's auc: 0.981048\n",
      "[529]\tvalid_0's auc: 0.98107\n",
      "[530]\tvalid_0's auc: 0.981098\n",
      "[531]\tvalid_0's auc: 0.981036\n",
      "[532]\tvalid_0's auc: 0.981028\n",
      "[533]\tvalid_0's auc: 0.981077\n",
      "[534]\tvalid_0's auc: 0.981108\n",
      "[535]\tvalid_0's auc: 0.981113\n",
      "[536]\tvalid_0's auc: 0.981141\n",
      "[537]\tvalid_0's auc: 0.981174\n",
      "[538]\tvalid_0's auc: 0.981162\n",
      "[539]\tvalid_0's auc: 0.981115\n",
      "[540]\tvalid_0's auc: 0.981094\n",
      "[541]\tvalid_0's auc: 0.981139\n",
      "[542]\tvalid_0's auc: 0.981133\n",
      "[543]\tvalid_0's auc: 0.981086\n",
      "[544]\tvalid_0's auc: 0.981064\n",
      "[545]\tvalid_0's auc: 0.981022\n",
      "[546]\tvalid_0's auc: 0.980995\n",
      "[547]\tvalid_0's auc: 0.980985\n",
      "[548]\tvalid_0's auc: 0.980996\n",
      "[549]\tvalid_0's auc: 0.980998\n",
      "[550]\tvalid_0's auc: 0.981021\n",
      "[551]\tvalid_0's auc: 0.980982\n",
      "[552]\tvalid_0's auc: 0.980993\n",
      "[553]\tvalid_0's auc: 0.980993\n",
      "[554]\tvalid_0's auc: 0.980963\n",
      "[555]\tvalid_0's auc: 0.980957\n",
      "[556]\tvalid_0's auc: 0.980944\n",
      "[557]\tvalid_0's auc: 0.980932\n",
      "Early stopping, best iteration is:\n",
      "[537]\tvalid_0's auc: 0.981174\n"
     ]
    }
   ],
   "source": [
    "import lightgbm as lgbm\n",
    "\n",
    "train_data = lgbm.Dataset(xtrain, ytrain)\n",
    "test_data = lgbm.Dataset(xtest, ytest)\n",
    "\n",
    "# define parameters\n",
    "parameters = {\n",
    "    'objective': 'binary',\n",
    "    'metric': 'auc',\n",
    "    'is_unbalance': 'true',\n",
    "    'feature_fraction': 0.5, \n",
    "    'bagging_fraction': 0.5,\n",
    "    'bagging_freq': 20,\n",
    "    'num_threads' : 2,\n",
    "    'seed' : 76\n",
    "}\n",
    "\n",
    "# train lightGBM model\n",
    "model = lgbm.train(parameters,\n",
    "                   train_data,\n",
    "                   valid_sets=test_data,\n",
    "                   num_boost_round=1000,\n",
    "                   early_stopping_rounds=20)\n"
   ]
  },
  {
   "cell_type": "code",
   "execution_count": 44,
   "metadata": {},
   "outputs": [],
   "source": [
    "pred_train = model.predict(xtrain)"
   ]
  },
  {
   "cell_type": "code",
   "execution_count": 45,
   "metadata": {},
   "outputs": [
    {
     "data": {
      "text/plain": [
       "0.9998562201423977"
      ]
     },
     "execution_count": 45,
     "metadata": {},
     "output_type": "execute_result"
    }
   ],
   "source": [
    "roc_auc_score(ytrain, pred_train)"
   ]
  },
  {
   "cell_type": "markdown",
   "metadata": {},
   "source": [
    "We can observe that node2vec with Light GBM has higher AUC score, thus works better at predicting the link than logistic regression. "
   ]
  },
  {
   "cell_type": "markdown",
   "metadata": {},
   "source": [
    "**References:**\n",
    "    \n",
    "[1] Linyuan Lu ̈, Tao Zhou. Link prediction in complex networks: A survey. Physica A: statistical mechanics and its applications 390, 6, 1150–1170, 2011.\n",
    "\n",
    "[2] David Liben-Nowell and Jon Kleinberg. The link-prediction problem for social networks. Journal of the Amer- ican society for information science and technology 58, 7, 1019–1031, 2007.\n",
    "\n",
    "[3] M. Fire, L. Tenenboim, O. Lesser, R. Puzis, L. Rokach and Y. Elovici. Link Prediction in Social Networks Using Computationally Efficient Topological Features. 2011 IEEE Third International Conference on Privacy, Security, Risk and Trust and 2011 IEEE Third International Conference on Social Computing, Boston, MA, 2011.\n",
    "\n",
    "[4] Muhan Zhang and Yixin Chen. Link prediction based on graph neural networks. In Advances in Neural Information Processing Systems, 5165–5175, 2018.\n",
    "\n",
    "[5] Aditya Grover and Jure Leskovec. node2vec: Scalable Feature Learning for Networks. Proceedings of the 22nd ACM SIGKDD International Conference on Knowledge Discovery and Data Mining, 2016.\n",
    "\n",
    "[6] Guolin Ke, Qi Meng, Thomas Finley, Taifeng Wang, Wei Chen, Weidong Ma, Qiwei Ye, Tie-Yan Liu. LightGBM: A Highly Efficient Gradient Boosting Decision Tree. Advances in Neural Information Processing Systems 30, 3149-3157, 2017.\n",
    "\n",
    "[7] Muhan Zhang, Zhicheng Cui, Marion Neumann, Yixin Chen. An End-to-End Deep Learning Architecture for Graph Classification. AAAI Conference on Artificial Intelligence, 2018.\n",
    "\n",
    "[8] Chami, Ines, Rex Ying, Christopher R ́e and Jure Leskovec. Hyperbolic Graph Convolutional Neural Networks. Advances in neural information processing systems 32, 4869-4880, 2019.\n",
    "\n",
    "[9] Zonghan Wu, Shirui Pan, Fengwen Chen, Guodong Long, Chengqi Zhang and Philip S. Yu. A Comprehensive Survey on Graph Neural Networks. IEEE Transactions on Neural Networks and Learning Systems, 2020."
   ]
  }
 ],
 "metadata": {
  "kernelspec": {
   "display_name": "Python 3",
   "language": "python",
   "name": "python3"
  },
  "language_info": {
   "codemirror_mode": {
    "name": "ipython",
    "version": 3
   },
   "file_extension": ".py",
   "mimetype": "text/x-python",
   "name": "python",
   "nbconvert_exporter": "python",
   "pygments_lexer": "ipython3",
   "version": "3.6.8"
  }
 },
 "nbformat": 4,
 "nbformat_minor": 2
}
