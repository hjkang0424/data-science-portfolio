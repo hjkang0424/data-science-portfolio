{
 "cells": [
  {
   "cell_type": "markdown",
   "metadata": {},
   "source": [
    "## Tutorial for second time lab session\n",
    "Jiandong ZHOU, 2019/10/03\n",
    "\n",
    "Contact me: jiandzhou3-c@my.cityu.edu.hk\n",
    "\n",
    "This guide can help you start working with NetworkX, including:\n",
    "1. basic skills using networkx;\n",
    "2. illustrative examples for preliminary graph analysis.\n",
    "\n",
    "# Graph creation\n",
    "\n",
    "Create an empty graph with no nodes and no edges."
   ]
  },
  {
   "cell_type": "code",
   "execution_count": 43,
   "metadata": {},
   "outputs": [],
   "source": [
    "import networkx as nx\n",
    "G = nx.Graph()"
   ]
  },
  {
   "cell_type": "markdown",
   "metadata": {},
   "source": [
    "By definition, a `Graph` is a collection of nodes (vertices) along with\n",
    "identified pairs of nodes (called edges, links, etc).  In NetworkX, nodes can\n",
    "be any hashable object e.g., a text string, an image, an XML object, another\n",
    "Graph, a customized node object, etc.\n",
    "\n",
    "# Nodes\n",
    "\n",
    "The graph `G` can be grown in several ways.  NetworkX includes many graph\n",
    "generator functions and facilities to read and write graphs in many formats.\n",
    "To get started though we’ll look at simple manipulations.  You can add one node\n",
    "at a time,"
   ]
  },
  {
   "cell_type": "code",
   "execution_count": 44,
   "metadata": {},
   "outputs": [],
   "source": [
    "G.add_node(1)"
   ]
  },
  {
   "cell_type": "markdown",
   "metadata": {},
   "source": [
    "add a list of nodes,"
   ]
  },
  {
   "cell_type": "code",
   "execution_count": 45,
   "metadata": {},
   "outputs": [],
   "source": [
    "G.add_nodes_from([2, 3])"
   ]
  },
  {
   "cell_type": "markdown",
   "metadata": {},
   "source": [
    "# Edges\n",
    "\n",
    "`G` can also be grown by adding one edge at a time,"
   ]
  },
  {
   "cell_type": "code",
   "execution_count": 46,
   "metadata": {},
   "outputs": [],
   "source": [
    "G.add_edge(1, 2)\n",
    "e = (2, 3)\n",
    "G.add_edge(*e)  # unpack edge tuple*"
   ]
  },
  {
   "cell_type": "markdown",
   "metadata": {},
   "source": [
    "by adding a list of edges,"
   ]
  },
  {
   "cell_type": "code",
   "execution_count": 47,
   "metadata": {},
   "outputs": [],
   "source": [
    "G.add_edges_from([(1, 2), (1, 3)])"
   ]
  },
  {
   "cell_type": "markdown",
   "metadata": {},
   "source": [
    "There are no complaints when adding existing nodes or edges. For example,\n",
    "after removing all nodes and edges,"
   ]
  },
  {
   "cell_type": "code",
   "execution_count": 48,
   "metadata": {},
   "outputs": [],
   "source": [
    "G.clear()"
   ]
  },
  {
   "cell_type": "markdown",
   "metadata": {},
   "source": [
    "we add new nodes/edges and NetworkX quietly ignores any that are\n",
    "already present."
   ]
  },
  {
   "cell_type": "code",
   "execution_count": 49,
   "metadata": {},
   "outputs": [],
   "source": [
    "G.add_edges_from([(1, 2), (1, 3)])\n",
    "G.add_node(1)\n",
    "G.add_edge(1, 2)\n",
    "G.add_node(\"spam\")        # adds node \"spam\"\n",
    "G.add_nodes_from(\"spam\")  # adds 4 nodes: 's', 'p', 'a', 'm'\n",
    "G.add_edge(3, 'm')"
   ]
  },
  {
   "cell_type": "markdown",
   "metadata": {},
   "source": [
    "At this stage the graph `G` consists of 8 nodes and 3 edges, as can be seen by:"
   ]
  },
  {
   "cell_type": "code",
   "execution_count": 50,
   "metadata": {},
   "outputs": [
    {
     "data": {
      "text/plain": [
       "3"
      ]
     },
     "execution_count": 50,
     "metadata": {},
     "output_type": "execute_result"
    }
   ],
   "source": [
    "G.number_of_nodes()\n",
    "G.number_of_edges()"
   ]
  },
  {
   "cell_type": "markdown",
   "metadata": {},
   "source": [
    "We can examine the nodes and edges. Four basic graph properties facilitate\n",
    "reporting: `G.nodes`, `G.edges`, `G.adj` and `G.degree`.  These\n",
    "are set-like views of the nodes, edges, neighbors (adjacencies), and degrees\n",
    "of nodes in a graph. They offer a continually updated read-only view into\n",
    "the graph structure. They are also dict-like in that you can look up node\n",
    "and edge data attributes via the views and iterate with data attributes\n",
    "using methods `.items()`, `.data('span')`.\n",
    "If you want a specific container type instead of a view, you can specify one.\n",
    "Here we use lists, though sets, dicts, tuples and other containers may be\n",
    "better in other contexts."
   ]
  },
  {
   "cell_type": "code",
   "execution_count": 51,
   "metadata": {},
   "outputs": [
    {
     "data": {
      "text/plain": [
       "2"
      ]
     },
     "execution_count": 51,
     "metadata": {},
     "output_type": "execute_result"
    }
   ],
   "source": [
    "list(G.nodes)\n",
    "list(G.edges)\n",
    "list(G.adj[1])  # or list(G.neighbors(1))\n",
    "G.degree[1]  # the number of edges incident to 1"
   ]
  },
  {
   "cell_type": "markdown",
   "metadata": {},
   "source": [
    "One can specify to report the edges and degree from a subset of all nodes\n",
    "using an *nbunch*. An *nbunch* is any of: None (meaning all nodes), a node,\n",
    "or an iterable container of nodes that is not itself a node in the graph."
   ]
  },
  {
   "cell_type": "code",
   "execution_count": 52,
   "metadata": {},
   "outputs": [
    {
     "data": {
      "text/plain": [
       "DegreeView({2: 1, 3: 2})"
      ]
     },
     "execution_count": 52,
     "metadata": {},
     "output_type": "execute_result"
    }
   ],
   "source": [
    "G.edges([2, 'm'])\n",
    "G.degree([2, 3])"
   ]
  },
  {
   "cell_type": "markdown",
   "metadata": {},
   "source": [
    "One can remove nodes and edges from the graph in a similar fashion to adding.\n",
    "Use methods\n",
    "`Graph.remove_node()`,\n",
    "`Graph.remove_nodes_from()`,\n",
    "`Graph.remove_edge()`\n",
    "and\n",
    "`Graph.remove_edges_from()`, e.g."
   ]
  },
  {
   "cell_type": "code",
   "execution_count": 53,
   "metadata": {},
   "outputs": [],
   "source": [
    "G.remove_node(2)\n",
    "G.remove_nodes_from(\"spam\")\n",
    "list(G.nodes)\n",
    "G.remove_edge(1, 3)"
   ]
  },
  {
   "cell_type": "markdown",
   "metadata": {},
   "source": [
    "When creating a graph structure by instantiating one of the graph\n",
    "classes you can specify data in several formats."
   ]
  },
  {
   "cell_type": "code",
   "execution_count": 54,
   "metadata": {},
   "outputs": [],
   "source": [
    "G.add_edge(1, 2)\n",
    "H = nx.DiGraph(G)   # create a DiGraph using the connections from G\n",
    "list(H.edges())\n",
    "edgelist = [(0, 1), (1, 2), (2, 3)]\n",
    "H = nx.Graph(edgelist)"
   ]
  },
  {
   "cell_type": "markdown",
   "metadata": {},
   "source": [
    "# What to use as nodes and edges\n",
    "\n",
    "You might notice that nodes and edges are not specified as NetworkX\n",
    "objects.  This leaves you free to use meaningful items as nodes and\n",
    "edges. The most common choices are numbers or strings, but a node can\n",
    "be any hashable object (except `None`), and an edge can be associated\n",
    "with any object `x` using `G.add_edge(n1, n2, object=x)`.\n",
    "\n",
    "As an example, `n1` and `n2` could be protein objects from the RCSB Protein\n",
    "Data Bank, and `x` could refer to an XML record of publications detailing\n",
    "experimental observations of their interaction.\n",
    "\n",
    "We have found this power quite useful, but its abuse\n",
    "can lead to unexpected surprises unless one is familiar with Python.\n",
    "If in doubt, consider using `convert_node_labels_to_integers()` to obtain\n",
    "a more traditional graph with integer labels.\n",
    "\n",
    "# Accessing edges and neighbors\n",
    "\n",
    "In addition to the views `Graph.edges()`, and `Graph.adj()`,\n",
    "access to edges and neighbors is possible using subscript notation."
   ]
  },
  {
   "cell_type": "code",
   "execution_count": 55,
   "metadata": {},
   "outputs": [
    {
     "data": {
      "text/plain": [
       "{}"
      ]
     },
     "execution_count": 55,
     "metadata": {},
     "output_type": "execute_result"
    }
   ],
   "source": [
    "G[1]  # same as G.adj[1]\n",
    "G[1][2]\n",
    "G.edges[1, 2]"
   ]
  },
  {
   "cell_type": "markdown",
   "metadata": {},
   "source": [
    "You can get/set the attributes of an edge using subscript notation\n",
    "if the edge already exists."
   ]
  },
  {
   "cell_type": "code",
   "execution_count": 56,
   "metadata": {},
   "outputs": [],
   "source": [
    "G.add_edge(1, 3)\n",
    "G[1][3]['color'] = \"blue\"\n",
    "G.edges[1, 2]['color'] = \"red\""
   ]
  },
  {
   "cell_type": "markdown",
   "metadata": {},
   "source": [
    "Fast examination of all (node, adjacency) pairs is achieved using\n",
    "`G.adjacency()`, or `G.adj.items()`.\n",
    "Note that for undirected graphs, adjacency iteration sees each edge twice."
   ]
  },
  {
   "cell_type": "code",
   "execution_count": 57,
   "metadata": {},
   "outputs": [
    {
     "name": "stdout",
     "output_type": "stream",
     "text": [
      "(1, 2, 0.125)\n",
      "(2, 1, 0.125)\n",
      "(3, 4, 0.375)\n",
      "(4, 3, 0.375)\n"
     ]
    }
   ],
   "source": [
    "FG = nx.Graph()\n",
    "FG.add_weighted_edges_from([(1, 2, 0.125), (1, 3, 0.75), (2, 4, 1.2), (3, 4, 0.375)])\n",
    "for n, nbrs in FG.adj.items():\n",
    "   for nbr, eattr in nbrs.items():\n",
    "       wt = eattr['weight']\n",
    "       if wt < 0.5: print('(%d, %d, %.3f)' % (n, nbr, wt))"
   ]
  },
  {
   "cell_type": "markdown",
   "metadata": {},
   "source": [
    "Convenient access to all edges is achieved with the edges property."
   ]
  },
  {
   "cell_type": "code",
   "execution_count": 58,
   "metadata": {},
   "outputs": [
    {
     "name": "stdout",
     "output_type": "stream",
     "text": [
      "(1, 2, 0.125)\n",
      "(3, 4, 0.375)\n"
     ]
    }
   ],
   "source": [
    "for (u, v, wt) in FG.edges.data('weight'):\n",
    "    if wt < 0.5: print('(%d, %d, %.3f)' % (u, v, wt))"
   ]
  },
  {
   "cell_type": "markdown",
   "metadata": {},
   "source": [
    "# Adding attributes to graphs, nodes, and edges\n",
    "\n",
    "Attributes such as weights, labels, colors, or whatever Python object you like,\n",
    "can be attached to graphs, nodes, or edges.\n",
    "\n",
    "Each graph, node, and edge can hold key/value attribute pairs in an associated\n",
    "attribute dictionary (the keys must be hashable).  By default these are empty,\n",
    "but attributes can be added or changed using `add_edge`, `add_node` or direct\n",
    "manipulation of the attribute dictionaries named `G.graph`, `G.nodes`, and\n",
    "`G.edges` for a graph `G`.\n",
    "\n",
    "## Graph attributes\n",
    "\n",
    "Assign graph attributes when creating a new graph"
   ]
  },
  {
   "cell_type": "code",
   "execution_count": 59,
   "metadata": {},
   "outputs": [
    {
     "data": {
      "text/plain": [
       "{'day': 'Friday'}"
      ]
     },
     "execution_count": 59,
     "metadata": {},
     "output_type": "execute_result"
    }
   ],
   "source": [
    "G = nx.Graph(day=\"Friday\")\n",
    "G.graph"
   ]
  },
  {
   "cell_type": "markdown",
   "metadata": {},
   "source": [
    "Or you can modify attributes later"
   ]
  },
  {
   "cell_type": "code",
   "execution_count": 60,
   "metadata": {},
   "outputs": [
    {
     "data": {
      "text/plain": [
       "{'day': 'Monday'}"
      ]
     },
     "execution_count": 60,
     "metadata": {},
     "output_type": "execute_result"
    }
   ],
   "source": [
    "G.graph['day'] = \"Monday\"\n",
    "G.graph"
   ]
  },
  {
   "cell_type": "markdown",
   "metadata": {},
   "source": [
    "# Node attributes\n",
    "\n",
    "Add node attributes using `add_node()`, `add_nodes_from()`, or `G.nodes`"
   ]
  },
  {
   "cell_type": "code",
   "execution_count": 61,
   "metadata": {},
   "outputs": [
    {
     "data": {
      "text/plain": [
       "NodeDataView({1: {'time': '5pm', 'room': 714}, 3: {'time': '2pm'}})"
      ]
     },
     "execution_count": 61,
     "metadata": {},
     "output_type": "execute_result"
    }
   ],
   "source": [
    "G.add_node(1, time='5pm')\n",
    "G.add_nodes_from([3], time='2pm')\n",
    "G.nodes[1]\n",
    "G.nodes[1]['room'] = 714\n",
    "G.nodes.data()"
   ]
  },
  {
   "cell_type": "markdown",
   "metadata": {},
   "source": [
    "Note that adding a node to `G.nodes` does not add it to the graph, use\n",
    "`G.add_node()` to add new nodes. Similarly for edges.\n",
    "\n",
    "# Edge Attributes\n",
    "\n",
    "Add/change edge attributes using `add_edge()`, `add_edges_from()`,\n",
    "or subscript notation."
   ]
  },
  {
   "cell_type": "code",
   "execution_count": 62,
   "metadata": {},
   "outputs": [],
   "source": [
    "G.add_edge(1, 2, weight=4.7 )\n",
    "G.add_edges_from([(3, 4), (4, 5)], color='red')\n",
    "G.add_edges_from([(1, 2, {'color': 'blue'}), (2, 3, {'weight': 8})])\n",
    "G[1][2]['weight'] = 4.7\n",
    "G.edges[3, 4]['weight'] = 4.2"
   ]
  },
  {
   "cell_type": "markdown",
   "metadata": {},
   "source": [
    "The special attribute `weight` should be numeric as it is used by\n",
    "algorithms requiring weighted edges.\n",
    "\n",
    " Directed graphs\n",
    "\n",
    "The `DiGraph` class provides additional properties specific to\n",
    "directed edges, e.g.,\n",
    "`DiGraph.out_edges()`, `DiGraph.in_degree()`,\n",
    "`DiGraph.predecessors()`, `DiGraph.successors()` etc.\n",
    "To allow algorithms to work with both classes easily, the directed versions of\n",
    "`neighbors()` is equivalent to `successors()` while `degree` reports\n",
    "the sum of `in_degree` and `out_degree` even though that may feel\n",
    "inconsistent at times."
   ]
  },
  {
   "cell_type": "code",
   "execution_count": 63,
   "metadata": {},
   "outputs": [
    {
     "data": {
      "text/plain": [
       "[2]"
      ]
     },
     "execution_count": 63,
     "metadata": {},
     "output_type": "execute_result"
    }
   ],
   "source": [
    "DG = nx.DiGraph()\n",
    "DG.add_weighted_edges_from([(1, 2, 0.5), (3, 1, 0.75)])\n",
    "DG.out_degree(1, weight='weight')\n",
    "DG.degree(1, weight='weight')\n",
    "list(DG.successors(1))\n",
    "list(DG.neighbors(1))"
   ]
  },
  {
   "cell_type": "markdown",
   "metadata": {},
   "source": [
    "Some algorithms work only for directed graphs and others are not well\n",
    "defined for directed graphs.  Indeed the tendency to lump directed\n",
    "and undirected graphs together is dangerous.  If you want to treat\n",
    "a directed graph as undirected for some measurement you should probably\n",
    "convert it using `Graph.to_undirected()` or with"
   ]
  },
  {
   "cell_type": "code",
   "execution_count": 64,
   "metadata": {},
   "outputs": [],
   "source": [
    "H = nx.Graph(G)  # convert G to undirected graph"
   ]
  },
  {
   "cell_type": "markdown",
   "metadata": {},
   "source": [
    "# Graph generators and graph operations\n",
    "\n",
    "In addition to constructing graphs node-by-node or edge-by-edge, they\n",
    "can also be generated by\n",
    "\n",
    "1. Applying classic graph operations, such as:\n",
    "\n",
    "   ```\n",
    "   subgraph(G, nbunch)      - induced subgraph view of G on nodes in nbunch\n",
    "   union(G1,G2)             - graph union\n",
    "   disjoint_union(G1,G2)    - graph union assuming all nodes are different\n",
    "   cartesian_product(G1,G2) - return Cartesian product graph\n",
    "   compose(G1,G2)           - combine graphs identifying nodes common to both\n",
    "   complement(G)            - graph complement\n",
    "   create_empty_copy(G)     - return an empty copy of the same graph class\n",
    "   to_undirected(G) - return an undirected representation of G\n",
    "   to_directed(G)   - return a directed representation of G\n",
    "   ```\n",
    "\n",
    "1. Using a call to one of the classic small graphs, e.g.,"
   ]
  },
  {
   "cell_type": "code",
   "execution_count": 65,
   "metadata": {},
   "outputs": [],
   "source": [
    "petersen = nx.petersen_graph()\n",
    "tutte = nx.tutte_graph()\n",
    "maze = nx.sedgewick_maze_graph()\n",
    "tet = nx.tetrahedral_graph()"
   ]
  },
  {
   "cell_type": "markdown",
   "metadata": {},
   "source": [
    "1. Using a (constructive) generator for a classic graph, e.g.,"
   ]
  },
  {
   "cell_type": "code",
   "execution_count": 66,
   "metadata": {},
   "outputs": [],
   "source": [
    "K_5 = nx.complete_graph(5)\n",
    "K_3_5 = nx.complete_bipartite_graph(3, 5)\n",
    "barbell = nx.barbell_graph(10, 10)\n",
    "lollipop = nx.lollipop_graph(10, 20)"
   ]
  },
  {
   "cell_type": "markdown",
   "metadata": {},
   "source": [
    "1. Using a stochastic graph generator, e.g.,"
   ]
  },
  {
   "cell_type": "code",
   "execution_count": 67,
   "metadata": {},
   "outputs": [],
   "source": [
    "er = nx.erdos_renyi_graph(100, 0.15)\n",
    "ws = nx.watts_strogatz_graph(30, 3, 0.1)\n",
    "ba = nx.barabasi_albert_graph(100, 5)\n",
    "red = nx.random_lobster(100, 0.9, 0.9)"
   ]
  },
  {
   "cell_type": "markdown",
   "metadata": {},
   "source": [
    "# Graph From Adjacency Matrix\n",
    "Given an adjacency matrix generate a networkx graph [[0, 1, 1], [1, 0, 0], [0, 1, 0]]"
   ]
  },
  {
   "cell_type": "code",
   "execution_count": 68,
   "metadata": {},
   "outputs": [
    {
     "data": {
      "image/png": "[encoded data removed]",
      "text/plain": [
       "<Figure size 432x288 with 1 Axes>"
      ]
     },
     "metadata": {
      "needs_background": "light"
     },
     "output_type": "display_data"
    }
   ],
   "source": [
    "import numpy as np\n",
    "adj = np.array([[0, 1, 1],\n",
    "              [1, 0, 1],\n",
    "              [1, 1, 0]])\n",
    "G = nx.from_numpy_matrix(adj)\n",
    "\n",
    "# draw the graph from adjacency matrix\n",
    "import networkx as nx\n",
    "import matplotlib.pyplot as plt\n",
    "%matplotlib inline\n",
    "nx.draw_networkx(G, with_labels=True)\n",
    "plt.show()"
   ]
  },
  {
   "cell_type": "markdown",
   "metadata": {},
   "source": [
    "# Reading a graph stored in a file using common graph formats,\n",
    "   such as edge lists, adjacency lists, GML, GraphML, pickle, LEDA and others."
   ]
  },
  {
   "cell_type": "code",
   "execution_count": 69,
   "metadata": {},
   "outputs": [],
   "source": [
    "nx.write_gml(red, \"path.to.file\")\n",
    "mygraph = nx.read_gml(\"path.to.file\")"
   ]
  },
  {
   "cell_type": "markdown",
   "metadata": {},
   "source": [
    "For details on graph formats see Reading and writing graphs\n",
    "and for graph generator functions see Graph generators\n",
    "\n",
    "# Analyzing graphs\n",
    "\n",
    "The structure of `G` can be analyzed using various graph-theoretic\n",
    "functions such as:"
   ]
  },
  {
   "cell_type": "code",
   "execution_count": 70,
   "metadata": {},
   "outputs": [
    {
     "data": {
      "text/plain": [
       "{1: 0, 2: 0, 3: 0, 'spam': 0}"
      ]
     },
     "execution_count": 70,
     "metadata": {},
     "output_type": "execute_result"
    }
   ],
   "source": [
    "G = nx.Graph()\n",
    "G.add_edges_from([(1, 2), (1, 3)])\n",
    "G.add_node(\"spam\")       # adds node \"spam\"\n",
    "list(nx.connected_components(G))\n",
    "sorted(d for n, d in G.degree())\n",
    "nx.clustering(G)"
   ]
  },
  {
   "cell_type": "markdown",
   "metadata": {},
   "source": [
    "Some functions with large output iterate over (node, value) 2-tuples.\n",
    "These are easily stored in a [dict](https://docs.python.org/2/library/stdtypes.html#dict) structure if you desire."
   ]
  },
  {
   "cell_type": "code",
   "execution_count": 71,
   "metadata": {},
   "outputs": [
    {
     "data": {
      "text/plain": [
       "{3: [3], 1: [3, 1], 2: [3, 1, 2]}"
      ]
     },
     "execution_count": 71,
     "metadata": {},
     "output_type": "execute_result"
    }
   ],
   "source": [
    "sp = dict(nx.all_pairs_shortest_path(G))\n",
    "sp[3]"
   ]
  },
  {
   "cell_type": "markdown",
   "metadata": {},
   "source": [
    "See Algorithms for details on graph algorithms\n",
    "supported.\n",
    "\n",
    "# Drawing graphs\n",
    "\n",
    "NetworkX is not primarily a graph drawing package but basic drawing with\n",
    "Matplotlib as well as an interface to use the open source Graphviz software\n",
    "package are included.  These are part of the `networkx.drawing` module and will\n",
    "be imported if possible.\n",
    "\n",
    "First import Matplotlib’s plot interface (pylab works too)"
   ]
  },
  {
   "cell_type": "code",
   "execution_count": 72,
   "metadata": {},
   "outputs": [],
   "source": [
    "import matplotlib.pyplot as plt"
   ]
  },
  {
   "cell_type": "markdown",
   "metadata": {},
   "source": [
    "You may find it useful to interactively test code using `ipython -pylab`,\n",
    "which combines the power of ipython and matplotlib and provides a convenient\n",
    "interactive mode.\n",
    "\n",
    "To test if the import of `networkx.drawing` was successful draw `G` using one of"
   ]
  },
  {
   "cell_type": "code",
   "execution_count": 73,
   "metadata": {},
   "outputs": [
    {
     "data": {
      "image/png": "[encoded data removed]",
      "text/plain": [
       "<Figure size 432x288 with 2 Axes>"
      ]
     },
     "metadata": {},
     "output_type": "display_data"
    }
   ],
   "source": [
    "G = nx.petersen_graph()\n",
    "plt.subplot(121)\n",
    "nx.draw(G, with_labels=True, font_weight='bold')\n",
    "plt.subplot(122)\n",
    "nx.draw_shell(G, nlist=[range(5, 10), range(5)], with_labels=True, font_weight='bold')"
   ]
  },
  {
   "cell_type": "markdown",
   "metadata": {},
   "source": [
    "when drawing to an interactive display.  Note that you may need to issue a\n",
    "Matplotlib"
   ]
  },
  {
   "cell_type": "code",
   "execution_count": 74,
   "metadata": {},
   "outputs": [],
   "source": [
    "plt.show()"
   ]
  },
  {
   "cell_type": "markdown",
   "metadata": {},
   "source": [
    "command if you are not using matplotlib in interactive mode (see\n",
    "[Matplotlib FAQ](http://matplotlib.org/faq/installing_faq.html#matplotlib-compiled-fine-but-nothing-shows-up-when-i-use-it)\n",
    ")."
   ]
  },
  {
   "cell_type": "code",
   "execution_count": 75,
   "metadata": {},
   "outputs": [
    {
     "data": {
      "image/png": "[encoded data removed]",
      "text/plain": [
       "<Figure size 432x288 with 4 Axes>"
      ]
     },
     "metadata": {},
     "output_type": "display_data"
    }
   ],
   "source": [
    "options = {\n",
    "    'node_color': 'black',\n",
    "    'node_size': 100,\n",
    "    'width': 3,\n",
    "}\n",
    "plt.subplot(221)\n",
    "nx.draw_random(G, **options)\n",
    "plt.subplot(222)\n",
    "nx.draw_circular(G, **options)\n",
    "plt.subplot(223)\n",
    "nx.draw_spectral(G, **options)\n",
    "plt.subplot(224)\n",
    "nx.draw_shell(G, nlist=[range(5,10), range(5)], **options)"
   ]
  },
  {
   "cell_type": "markdown",
   "metadata": {},
   "source": [
    "You can find additional options via `draw_networkx()` and\n",
    "layouts via `layout`.\n",
    "You can use multiple shells with `draw_shell()`."
   ]
  },
  {
   "cell_type": "code",
   "execution_count": 76,
   "metadata": {},
   "outputs": [
    {
     "data": {
      "image/png": "[encoded data removed]",
      "text/plain": [
       "<Figure size 432x288 with 1 Axes>"
      ]
     },
     "metadata": {},
     "output_type": "display_data"
    }
   ],
   "source": [
    "G = nx.dodecahedral_graph()\n",
    "shells = [[2, 3, 4, 5, 6], [8, 1, 0, 19, 18, 17, 16, 15, 14, 7], [9, 10, 11, 12, 13]]\n",
    "nx.draw_shell(G, nlist=shells, **options)"
   ]
  },
  {
   "cell_type": "markdown",
   "metadata": {},
   "source": [
    "To save drawings to a file, use, for example"
   ]
  },
  {
   "cell_type": "code",
   "execution_count": 77,
   "metadata": {},
   "outputs": [
    {
     "data": {
      "image/png": "[encoded data removed]",
      "text/plain": [
       "<Figure size 432x288 with 1 Axes>"
      ]
     },
     "metadata": {},
     "output_type": "display_data"
    }
   ],
   "source": [
    "nx.draw(G)\n",
    "plt.savefig(\"path.png\")"
   ]
  },
  {
   "cell_type": "markdown",
   "metadata": {},
   "source": [
    "# other examples\n",
    "consult package nx.drawing for more options"
   ]
  },
  {
   "cell_type": "code",
   "execution_count": 78,
   "metadata": {},
   "outputs": [
    {
     "data": {
      "image/png": "[encoded data removed]",
      "text/plain": [
       "<Figure size 432x288 with 1 Axes>"
      ]
     },
     "metadata": {},
     "output_type": "display_data"
    }
   ],
   "source": [
    "G = nx.path_graph(10)\n",
    "nx.draw(G)\n",
    "plt.savefig(\"path_graph.pdf\")"
   ]
  },
  {
   "cell_type": "markdown",
   "metadata": {},
   "source": [
    "NetworkX Docs\n",
    "http://networkx.lanl.gov/tutorial/index.html\n",
    "NetworkX Tutorial\n",
    "http://networkx.lanl.gov/contents.html\n",
    "Matplotlib Docs\n",
    "http://matplotlib.sourceforge.net/contents.html\n",
    "Matplotlib Tutorial\n",
    "http://matplotlib.sourceforge.net/users/pyplot_ tutorial.html\n",
    "Numpy Docs\n",
    "http://numpy.scipy.org/"
   ]
  },
  {
   "cell_type": "markdown",
   "metadata": {},
   "source": [
    "# Facebook data analysis\n",
    "For our analysis here we will use Facebook combined ego networks dataset, it contains the aggregated network of ten individuals’ Facebook friends list. You can download the required facebook_combined.txt file from the Stanford University site."
   ]
  },
  {
   "cell_type": "code",
   "execution_count": 79,
   "metadata": {},
   "outputs": [
    {
     "name": "stdout",
     "output_type": "stream",
     "text": [
      "Name: \n",
      "Type: Graph\n",
      "Number of nodes: 4039\n",
      "Number of edges: 88234\n",
      "Average degree:  43.6910\n"
     ]
    }
   ],
   "source": [
    "G_fb = nx.read_edgelist(\"facebook_combined.txt\", create_using = nx.Graph(), nodetype=int)\n",
    "# check basic graph information\n",
    "print(nx.info(G_fb))"
   ]
  },
  {
   "cell_type": "code",
   "execution_count": 80,
   "metadata": {},
   "outputs": [
    {
     "data": {
      "image/png": "[encoded data removed]",
      "text/plain": [
       "<Figure size 432x288 with 1 Axes>"
      ]
     },
     "metadata": {
      "needs_background": "light"
     },
     "output_type": "display_data"
    }
   ],
   "source": [
    "# printing the (in- plus out-) degree histogram:\n",
    "def plot_degree_dist(G_fb):\n",
    "    degrees = [G_fb.degree(n) for n in G_fb.nodes()]\n",
    "    plt.hist(degrees)\n",
    "    plt.show()\n",
    "\n",
    "plot_degree_dist(nx.gnp_random_graph(100, 0.5, directed=True))"
   ]
  },
  {
   "cell_type": "code",
   "execution_count": 81,
   "metadata": {},
   "outputs": [
    {
     "data": {
      "text/plain": [
       "1045"
      ]
     },
     "execution_count": 81,
     "metadata": {},
     "output_type": "execute_result"
    }
   ],
   "source": [
    "degrees = [G_fb.degree(n) for n in G_fb.nodes()]\n",
    "max(degrees) # Maximum degree"
   ]
  },
  {
   "cell_type": "code",
   "execution_count": 82,
   "metadata": {},
   "outputs": [
    {
     "data": {
      "text/plain": [
       "1"
      ]
     },
     "execution_count": 82,
     "metadata": {},
     "output_type": "execute_result"
    }
   ],
   "source": [
    "min(degrees) # Minimum degree"
   ]
  },
  {
   "cell_type": "code",
   "execution_count": 83,
   "metadata": {},
   "outputs": [
    {
     "data": {
      "text/plain": [
       "43.69101262688784"
      ]
     },
     "execution_count": 83,
     "metadata": {},
     "output_type": "execute_result"
    }
   ],
   "source": [
    "np.mean(degrees) # average degree"
   ]
  },
  {
   "cell_type": "code",
   "execution_count": 84,
   "metadata": {},
   "outputs": [
    {
     "data": {
      "text/plain": [
       "25.0"
      ]
     },
     "execution_count": 84,
     "metadata": {},
     "output_type": "execute_result"
    }
   ],
   "source": [
    "np.median(degrees) # median degree"
   ]
  },
  {
   "cell_type": "markdown",
   "metadata": {},
   "source": [
    "# Assortativity\n",
    "A network is said to be assortative when high-degree nodes are, on average, connected to other nodes with high-degree and low-degree nodes are, on average, connected to other nodes with low degree.\n",
    "\n",
    "In graph theory, similarity is measured by the degree distribution. Degree is the number of connections a node has to other nodes. In a directed graph, we have incoming and outgoing connections and corresponding indegree and outdegree. Friends tend to have something in common. In graph theory, this tendency is measured by the assortativity coefficient. This coefficient is the Pearson correlation coefficient between a pair of nodes."
   ]
  },
  {
   "cell_type": "code",
   "execution_count": 85,
   "metadata": {},
   "outputs": [
    {
     "data": {
      "text/plain": [
       "0.0635772291856496"
      ]
     },
     "execution_count": 85,
     "metadata": {},
     "output_type": "execute_result"
    }
   ],
   "source": [
    "assortativity=nx.degree_assortativity_coefficient(G_fb) # Assortativity\n",
    "assortativity"
   ]
  },
  {
   "cell_type": "code",
   "execution_count": 86,
   "metadata": {},
   "outputs": [],
   "source": [
    "clusteringMetric=nx.clustering(G_fb)"
   ]
  },
  {
   "cell_type": "code",
   "execution_count": 87,
   "metadata": {},
   "outputs": [
    {
     "data": {
      "text/plain": [
       "{0: 0.04196165314587463,\n",
       " 1: 0.41911764705882354,\n",
       " 2: 0.8888888888888888,\n",
       " 3: 0.6323529411764706,\n",
       " 4: 0.8666666666666667,\n",
       " 5: 0.3333333333333333,\n",
       " 6: 0.9333333333333333,\n",
       " 7: 0.43157894736842106,\n",
       " 8: 0.6785714285714286,\n",
       " 9: 0.39724310776942356,\n",
       " 10: 0.8222222222222222,\n",
       " 11: 0,\n",
       " 12: 0,\n",
       " 13: 0.6516129032258065,\n",
       " 14: 0.7428571428571429,\n",
       " 15: 0,\n",
       " 16: 0.6666666666666666,\n",
       " 17: 0.7307692307692307,\n",
       " 18: 0,\n",
       " 19: 0.2833333333333333,\n",
       " 20: 0.6857142857142857,\n",
       " 21: 0.3490384615384615,\n",
       " 22: 0.4727272727272727,\n",
       " 23: 0.16911764705882354,\n",
       " 24: 0.9,\n",
       " 25: 0.2885763000852515,\n",
       " 26: 0.4113257243195786,\n",
       " 27: 0.9,\n",
       " 28: 0.7692307692307693,\n",
       " 29: 0.46153846153846156,\n",
       " 30: 0.5,\n",
       " 31: 0.43478260869565216,\n",
       " 32: 1.0,\n",
       " 33: 1.0,\n",
       " 34: 0.6,\n",
       " 35: 1.0,\n",
       " 36: 0.9636363636363636,\n",
       " 37: 0,\n",
       " 38: 0.3611111111111111,\n",
       " 39: 0.49523809523809526,\n",
       " 40: 0.4048625792811839,\n",
       " 41: 0.4673913043478261,\n",
       " 42: 1.0,\n",
       " 43: 0,\n",
       " 44: 1.0,\n",
       " 45: 0.7272727272727273,\n",
       " 46: 1.0,\n",
       " 47: 1.0,\n",
       " 48: 0.329004329004329,\n",
       " 49: 0.5,\n",
       " 50: 0.5636363636363636,\n",
       " 51: 0.8571428571428571,\n",
       " 52: 1.0,\n",
       " 53: 0.3827956989247312,\n",
       " 54: 0.5714285714285714,\n",
       " 55: 0.8308823529411765,\n",
       " 56: 0.34865134865134867,\n",
       " 57: 0.5238095238095238,\n",
       " 58: 0.2727272727272727,\n",
       " 59: 0.7777777777777778,\n",
       " 60: 0.6785714285714286,\n",
       " 61: 0.6666666666666666,\n",
       " 62: 0.5230769230769231,\n",
       " 63: 1.0,\n",
       " 64: 0.9523809523809523,\n",
       " 65: 0.5,\n",
       " 66: 0.8761904761904762,\n",
       " 67: 0.36140350877192984,\n",
       " 68: 0.8333333333333334,\n",
       " 69: 0.6444444444444445,\n",
       " 70: 1.0,\n",
       " 71: 1.0,\n",
       " 72: 0.605072463768116,\n",
       " 73: 0.5333333333333333,\n",
       " 74: 0,\n",
       " 75: 0.7582417582417582,\n",
       " 76: 1.0,\n",
       " 77: 0.6,\n",
       " 78: 1.0,\n",
       " 79: 0.9393939393939394,\n",
       " 80: 0.5217391304347826,\n",
       " 81: 0.6666666666666666,\n",
       " 82: 0.41711229946524064,\n",
       " 83: 0.8571428571428571,\n",
       " 84: 0.4230769230769231,\n",
       " 85: 0.6483516483516484,\n",
       " 86: 1.0,\n",
       " 87: 0.6410256410256411,\n",
       " 88: 0.3368421052631579,\n",
       " 89: 0.6785714285714286,\n",
       " 90: 1.0,\n",
       " 91: 0.6785714285714286,\n",
       " 92: 0.7761904761904762,\n",
       " 93: 0.8571428571428571,\n",
       " 94: 0.6666666666666666,\n",
       " 95: 0.8666666666666667,\n",
       " 96: 0.3888888888888889,\n",
       " 97: 0.6666666666666666,\n",
       " 98: 0.5246598639455783,\n",
       " 99: 0.6410256410256411,\n",
       " 100: 0.6111111111111112,\n",
       " 101: 0.8304093567251462,\n",
       " 102: 1.0,\n",
       " 103: 0.55,\n",
       " 104: 0.6088709677419355,\n",
       " 105: 0.6703296703296703,\n",
       " 106: 0.42857142857142855,\n",
       " 107: 0.049038479165520905,\n",
       " 108: 0.7948717948717948,\n",
       " 109: 0.53003003003003,\n",
       " 110: 1.0,\n",
       " 111: 0.5604395604395604,\n",
       " 112: 1.0,\n",
       " 113: 0.5371794871794872,\n",
       " 114: 0,\n",
       " 115: 0.5333333333333333,\n",
       " 116: 0.6617647058823529,\n",
       " 117: 0.4666666666666667,\n",
       " 118: 0.5365079365079365,\n",
       " 119: 0.28714965626652567,\n",
       " 120: 0.5,\n",
       " 121: 0.4696969696969697,\n",
       " 122: 0.38556067588325654,\n",
       " 123: 0.6928104575163399,\n",
       " 124: 0.5,\n",
       " 125: 0.6666666666666666,\n",
       " 126: 0.7619047619047619,\n",
       " 127: 0.7333333333333333,\n",
       " 128: 0.5952380952380952,\n",
       " 129: 0.9047619047619048,\n",
       " 130: 0.35833333333333334,\n",
       " 131: 1.0,\n",
       " 132: 0.4,\n",
       " 133: 0.5882352941176471,\n",
       " 134: 0.7076023391812866,\n",
       " 135: 1.0,\n",
       " 136: 0.32137161084529503,\n",
       " 137: 0.5333333333333333,\n",
       " 138: 1.0,\n",
       " 139: 0.9722222222222222,\n",
       " 140: 0.8909090909090909,\n",
       " 141: 0.5555555555555556,\n",
       " 142: 0.530454042081949,\n",
       " 143: 0.6060606060606061,\n",
       " 144: 0.7047619047619048,\n",
       " 145: 1.0,\n",
       " 146: 0.4666666666666667,\n",
       " 147: 0.9333333333333333,\n",
       " 148: 0.42105263157894735,\n",
       " 149: 0.7802197802197802,\n",
       " 150: 0.5636363636363636,\n",
       " 151: 0.9047619047619048,\n",
       " 152: 0.7,\n",
       " 153: 1.0,\n",
       " 154: 1.0,\n",
       " 155: 0.6666666666666666,\n",
       " 156: 0.5303030303030303,\n",
       " 157: 0.6666666666666666,\n",
       " 158: 0.3566666666666667,\n",
       " 159: 0.6263736263736264,\n",
       " 160: 1.0,\n",
       " 161: 0.5466666666666666,\n",
       " 162: 0.8571428571428571,\n",
       " 163: 0.5333333333333333,\n",
       " 164: 0.6666666666666666,\n",
       " 165: 0.6,\n",
       " 166: 0.6666666666666666,\n",
       " 167: 0.9047619047619048,\n",
       " 168: 0.6909090909090909,\n",
       " 169: 0.4395448079658606,\n",
       " 170: 0.4714975845410628,\n",
       " 171: 0.21645021645021645,\n",
       " 172: 0.45975609756097563,\n",
       " 173: 0.24242424242424243,\n",
       " 174: 0.8333333333333334,\n",
       " 175: 0.4264705882352941,\n",
       " 176: 0.7252747252747253,\n",
       " 177: 0.7636363636363637,\n",
       " 178: 0.46153846153846156,\n",
       " 179: 0.6666666666666666,\n",
       " 180: 0.7578947368421053,\n",
       " 181: 0.8666666666666667,\n",
       " 182: 0.6666666666666666,\n",
       " 183: 1.0,\n",
       " 184: 0.6339869281045751,\n",
       " 185: 0.5384615384615384,\n",
       " 186: 0.4978858350951374,\n",
       " 187: 0.8583333333333333,\n",
       " 188: 0.45567375886524825,\n",
       " 189: 0.9523809523809523,\n",
       " 190: 0.5,\n",
       " 191: 1.0,\n",
       " 192: 0.4,\n",
       " 193: 0.7,\n",
       " 194: 0.8245614035087719,\n",
       " 195: 1.0,\n",
       " 196: 0.717948717948718,\n",
       " 197: 0.7416666666666667,\n",
       " 198: 0.4696969696969697,\n",
       " 199: 0.47178538390379277,\n",
       " 200: 0.4342105263157895,\n",
       " 201: 1.0,\n",
       " 202: 0.6666666666666666,\n",
       " 203: 0.42857142857142855,\n",
       " 204: 0.5887445887445888,\n",
       " 205: 1.0,\n",
       " 206: 0.5,\n",
       " 207: 1.0,\n",
       " 208: 0.8571428571428571,\n",
       " 209: 0,\n",
       " 210: 0,\n",
       " 211: 0.6,\n",
       " 212: 0.6993464052287581,\n",
       " 213: 0.30364372469635625,\n",
       " 214: 0.5661764705882353,\n",
       " 215: 0,\n",
       " 216: 1.0,\n",
       " 217: 0.8214285714285714,\n",
       " 218: 1.0,\n",
       " 219: 0.7333333333333333,\n",
       " 220: 1.0,\n",
       " 221: 0.8571428571428571,\n",
       " 222: 0.7454545454545455,\n",
       " 223: 0.7207977207977208,\n",
       " 224: 0.5211640211640212,\n",
       " 225: 0.8444444444444444,\n",
       " 226: 0.8131868131868132,\n",
       " 227: 0.5428571428571428,\n",
       " 228: 1.0,\n",
       " 229: 0.5333333333333333,\n",
       " 230: 0.2777777777777778,\n",
       " 231: 0.4523809523809524,\n",
       " 232: 0.62,\n",
       " 233: 1.0,\n",
       " 234: 1.0,\n",
       " 235: 0.8,\n",
       " 236: 0.4099099099099099,\n",
       " 237: 0.8571428571428571,\n",
       " 238: 0.7154150197628458,\n",
       " 239: 0.418468731735827,\n",
       " 240: 0.6666666666666666,\n",
       " 241: 1.0,\n",
       " 242: 0.5978260869565217,\n",
       " 243: 0.6428571428571429,\n",
       " 244: 1.0,\n",
       " 245: 0.7,\n",
       " 246: 0.5934065934065934,\n",
       " 247: 0.6666666666666666,\n",
       " 248: 0.5047619047619047,\n",
       " 249: 0.6268115942028986,\n",
       " 250: 0.8,\n",
       " 251: 0.7802197802197802,\n",
       " 252: 0.4033653846153846,\n",
       " 253: 0.6666666666666666,\n",
       " 254: 0.9044117647058824,\n",
       " 255: 1.0,\n",
       " 256: 1.0,\n",
       " 257: 0.5032679738562091,\n",
       " 258: 0.4857142857142857,\n",
       " 259: 0.6785714285714286,\n",
       " 260: 0.39285714285714285,\n",
       " 261: 0.4751066856330014,\n",
       " 262: 1.0,\n",
       " 263: 0.9523809523809523,\n",
       " 264: 1.0,\n",
       " 265: 0.6410256410256411,\n",
       " 266: 0.8823529411764706,\n",
       " 267: 1.0,\n",
       " 268: 0.9090909090909091,\n",
       " 269: 0.4666666666666667,\n",
       " 270: 0.8333333333333334,\n",
       " 271: 0.386986301369863,\n",
       " 272: 0.35353535353535354,\n",
       " 273: 1.0,\n",
       " 274: 0.5604395604395604,\n",
       " 275: 0.8666666666666667,\n",
       " 276: 0.7516339869281046,\n",
       " 277: 0.3466346153846154,\n",
       " 278: 0.8,\n",
       " 279: 1.0,\n",
       " 280: 0.4673311184939092,\n",
       " 281: 0.7416666666666667,\n",
       " 282: 1.0,\n",
       " 283: 0.6,\n",
       " 284: 0.7,\n",
       " 285: 0.43293246993524515,\n",
       " 286: 1.0,\n",
       " 287: 0,\n",
       " 288: 0.8333333333333334,\n",
       " 289: 0.8333333333333334,\n",
       " 290: 0.8241758241758241,\n",
       " 291: 0.38095238095238093,\n",
       " 292: 0,\n",
       " 293: 1.0,\n",
       " 294: 0.6666666666666666,\n",
       " 295: 0.5333333333333333,\n",
       " 296: 0.9523809523809523,\n",
       " 297: 0.72,\n",
       " 298: 0.9454545454545454,\n",
       " 299: 0.6842105263157895,\n",
       " 300: 0.7619047619047619,\n",
       " 301: 0.6666666666666666,\n",
       " 302: 0.7526315789473684,\n",
       " 303: 0.580952380952381,\n",
       " 304: 0.3872053872053872,\n",
       " 305: 1.0,\n",
       " 306: 1.0,\n",
       " 307: 0.6666666666666666,\n",
       " 308: 0.4746376811594203,\n",
       " 309: 1.0,\n",
       " 310: 0.5384615384615384,\n",
       " 311: 0.5238095238095238,\n",
       " 312: 0.4276923076923077,\n",
       " 313: 0.5015015015015015,\n",
       " 314: 0.4230769230769231,\n",
       " 315: 0.31623376623376626,\n",
       " 316: 1.0,\n",
       " 317: 0.5238095238095238,\n",
       " 318: 0.5272727272727272,\n",
       " 319: 0.6785714285714286,\n",
       " 320: 0.48095238095238096,\n",
       " 321: 1.0,\n",
       " 322: 0.2918622848200313,\n",
       " 323: 0.4844804318488529,\n",
       " 324: 0.36615384615384616,\n",
       " 325: 0.601889338731444,\n",
       " 326: 0.6666666666666666,\n",
       " 327: 1.0,\n",
       " 328: 1.0,\n",
       " 329: 0.22528735632183908,\n",
       " 330: 0.825,\n",
       " 331: 0.5263157894736842,\n",
       " 332: 0.42081949058693247,\n",
       " 333: 0.7857142857142857,\n",
       " 334: 0.5105820105820106,\n",
       " 335: 0,\n",
       " 336: 1.0,\n",
       " 337: 0.8055555555555556,\n",
       " 338: 0.6666666666666666,\n",
       " 339: 0.25925925925925924,\n",
       " 340: 0.7333333333333333,\n",
       " 341: 0.7727272727272727,\n",
       " 342: 0.5775401069518716,\n",
       " 343: 0.6339869281045751,\n",
       " 344: 0.5,\n",
       " 345: 0.65,\n",
       " 346: 0.5299145299145299,\n",
       " 347: 0.8095238095238095,\n",
       " 348: 0.12303684976633725,\n",
       " 414: 0.1351803200382135,\n",
       " 428: 0.26758199847444697,\n",
       " 1684: 0.044774546986936364,\n",
       " 1912: 0.10548597326400477,\n",
       " 2814: 1.0,\n",
       " 2838: 1.0,\n",
       " 2885: 1.0,\n",
       " 3003: 1.0,\n",
       " 3173: 0.21568627450980393,\n",
       " 3290: 0.8,\n",
       " 353: 0.31721995728984664,\n",
       " 363: 0.31951754385964914,\n",
       " 366: 0.33526632302405496,\n",
       " 376: 0.2631578947368421,\n",
       " 389: 0.2845744680851064,\n",
       " 420: 0.4919786096256685,\n",
       " 475: 0.2750304836742989,\n",
       " 483: 0.1616412572934312,\n",
       " 484: 0.2671486510315641,\n",
       " 517: 0.3525018670649739,\n",
       " 526: 0.2457395329265727,\n",
       " 538: 0.3322641005078856,\n",
       " 563: 0.18485958485958487,\n",
       " 566: 0.4070028011204482,\n",
       " 580: 0.3654618473895582,\n",
       " 596: 0.1681159420289855,\n",
       " 601: 0.4166666666666667,\n",
       " 606: 0.2549450549450549,\n",
       " 629: 0.38181818181818183,\n",
       " 637: 0.19115179252479023,\n",
       " 641: 0.31002331002331,\n",
       " 649: 0.4,\n",
       " 651: 0.323820395738204,\n",
       " 896: 0.38603174603174606,\n",
       " 897: 0.38554778554778557,\n",
       " 898: 0.7610241820768137,\n",
       " 899: 1.0,\n",
       " 900: 0.5512820512820513,\n",
       " 901: 0.8235294117647058,\n",
       " 902: 0.8231884057971014,\n",
       " 903: 0.7825311942959001,\n",
       " 904: 0.6666666666666666,\n",
       " 905: 0.4411764705882353,\n",
       " 906: 0.5541125541125541,\n",
       " 907: 0.4230769230769231,\n",
       " 908: 0.4475806451612903,\n",
       " 909: 0.6363636363636364,\n",
       " 910: 1.0,\n",
       " 911: 0,\n",
       " 912: 0.4722222222222222,\n",
       " 913: 0.30655391120507397,\n",
       " 914: 0.6333333333333333,\n",
       " 915: 0.37815126050420167,\n",
       " 916: 0.482900009318796,\n",
       " 917: 0.22921884317233154,\n",
       " 918: 0,\n",
       " 919: 0.8645320197044335,\n",
       " 920: 0.3974358974358974,\n",
       " 921: 0.5764600179694519,\n",
       " 922: 0.46436781609195404,\n",
       " 923: 0.5357142857142857,\n",
       " 924: 0.4202020202020202,\n",
       " 925: 0.46771517206550756,\n",
       " 926: 0.5095238095238095,\n",
       " 927: 0.5816216216216217,\n",
       " 928: 0.9444444444444444,\n",
       " 929: 0.9,\n",
       " 930: 0.4856711915535445,\n",
       " 931: 0.6761904761904762,\n",
       " 932: 0.49923195084485406,\n",
       " 933: 0.6233333333333333,\n",
       " 934: 0.7431496537187594,\n",
       " 935: 0.5238095238095238,\n",
       " 936: 0.6381381381381381,\n",
       " 937: 0.8571428571428571,\n",
       " 938: 0.8226600985221675,\n",
       " 939: 0.5808823529411765,\n",
       " 940: 0.5882352941176471,\n",
       " 941: 0.4116002795248078,\n",
       " 942: 0.5855769230769231,\n",
       " 943: 0.42424242424242425,\n",
       " 944: 0.5495495495495496,\n",
       " 945: 1.0,\n",
       " 946: 0.48477546549835704,\n",
       " 947: 0.5981693363844394,\n",
       " 948: 0.561877667140825,\n",
       " 949: 0.6758893280632411,\n",
       " 950: 0.5777777777777777,\n",
       " 951: 0.37894736842105264,\n",
       " 952: 0.7544463568559954,\n",
       " 953: 0.5424736663268773,\n",
       " 954: 0.5912457912457912,\n",
       " 955: 0.8444444444444444,\n",
       " 956: 0.8222222222222222,\n",
       " 957: 0.6225961538461539,\n",
       " 958: 0.9239130434782609,\n",
       " 959: 0.6492753623188405,\n",
       " 960: 0.5735770036169807,\n",
       " 961: 0.2692307692307692,\n",
       " 962: 0.43874643874643876,\n",
       " 963: 0.7954545454545454,\n",
       " 964: 0.4707692307692308,\n",
       " 965: 0.7416666666666667,\n",
       " 966: 0.6314263920671244,\n",
       " 967: 0.4873919943572562,\n",
       " 968: 0.31666666666666665,\n",
       " 969: 0.7540322580645161,\n",
       " 970: 0.7523809523809524,\n",
       " 971: 0.6292335115864528,\n",
       " 972: 0.7952380952380952,\n",
       " 973: 0.38562091503267976,\n",
       " 974: 0.7454545454545455,\n",
       " 975: 0.7281621243885394,\n",
       " 976: 0.7210144927536232,\n",
       " 977: 0.56,\n",
       " 978: 0.573562359970127,\n",
       " 979: 0.9111111111111111,\n",
       " 980: 0.5136564960629921,\n",
       " 981: 0.7622571692876966,\n",
       " 982: 0.6286215978928885,\n",
       " 983: 0.6991010047593865,\n",
       " 984: 0.7619047619047619,\n",
       " 985: 0.7619047619047619,\n",
       " 986: 0.7454545454545455,\n",
       " 987: 0.4,\n",
       " 988: 0.7682926829268293,\n",
       " 989: 0.6588235294117647,\n",
       " 990: 0.29802955665024633,\n",
       " 991: 0.32748538011695905,\n",
       " 992: 0.8043010752688172,\n",
       " 993: 0.5144724556489262,\n",
       " 994: 0.43874643874643876,\n",
       " 995: 0.43776223776223777,\n",
       " 996: 0.6666666666666666,\n",
       " 997: 0.5695175438596491,\n",
       " 998: 0.5833333333333334,\n",
       " 999: 0.6729323308270677,\n",
       " 1000: 0.5333333333333333,\n",
       " 1001: 0.4143049932523617,\n",
       " 1002: 0.8333333333333334,\n",
       " 1003: 0.5303471444568869,\n",
       " 1004: 0.6014005602240896,\n",
       " 1005: 0.9120879120879121,\n",
       " 1006: 0.5332134651882928,\n",
       " 1007: 0.48333333333333334,\n",
       " 1008: 0.32142857142857145,\n",
       " 1009: 0.5513784461152882,\n",
       " 1010: 0.4015873015873016,\n",
       " 1011: 0.5745967741935484,\n",
       " 1012: 0.42943548387096775,\n",
       " 1013: 0.3787878787878788,\n",
       " 1014: 0.41517212945784376,\n",
       " 1015: 0.7444444444444445,\n",
       " 1016: 1.0,\n",
       " 1017: 0.5286595320152367,\n",
       " 1018: 0.5952941176470589,\n",
       " 1019: 0.6660617059891107,\n",
       " 1020: 0.6382335148215366,\n",
       " 1021: 0.5923497267759563,\n",
       " 1022: 0.8333333333333334,\n",
       " 1023: 0.4166666666666667,\n",
       " 1024: 0.6246498599439776,\n",
       " 1025: 0.39901477832512317,\n",
       " 1026: 0.5740506329113924,\n",
       " 1027: 1.0,\n",
       " 1028: 0.6445047489823609,\n",
       " 1029: 0.42810775722168126,\n",
       " 1030: 0.6181818181818182,\n",
       " 1031: 0.8333333333333334,\n",
       " 1032: 0.49691658552418044,\n",
       " 1033: 0.6985294117647058,\n",
       " 1034: 1.0,\n",
       " 1035: 0.44,\n",
       " 1036: 0.6944948578342408,\n",
       " 1037: 0.493993993993994,\n",
       " 1038: 0.5,\n",
       " 1039: 0.6780626780626781,\n",
       " 1040: 0.6404341926729986,\n",
       " 1041: 0.4654255319148936,\n",
       " 1042: 0.6952380952380952,\n",
       " 1043: 0.6363636363636364,\n",
       " 1044: 0.7777777777777778,\n",
       " 1045: 0.5909090909090909,\n",
       " 1046: 1.0,\n",
       " 1047: 0.6028846153846154,\n",
       " 1048: 0.5092542677448337,\n",
       " 1049: 0.5594700391448358,\n",
       " 1050: 0.8181818181818182,\n",
       " 1051: 0.45507246376811594,\n",
       " 1052: 0.3271889400921659,\n",
       " 1053: 0.39285714285714285,\n",
       " 1054: 0.6023759608665269,\n",
       " 1055: 0.7692307692307693,\n",
       " 1056: 0.5442307692307692,\n",
       " 1057: 0.5,\n",
       " 1058: 0.5238095238095238,\n",
       " 1059: 0.5186252771618626,\n",
       " 1060: 0.592156862745098,\n",
       " 1061: 0.8222222222222222,\n",
       " 1062: 0.354978354978355,\n",
       " 1063: 0.8138528138528138,\n",
       " 1064: 0.42735042735042733,\n",
       " 1065: 1.0,\n",
       " 1066: 0.5263388937664618,\n",
       " 1067: 0.5792982456140351,\n",
       " 1068: 0.5527210884353742,\n",
       " 1069: 0.8,\n",
       " 1070: 0.2943722943722944,\n",
       " 1071: 1.0,\n",
       " 1072: 0.6184615384615385,\n",
       " 1073: 0.35555555555555557,\n",
       " 1074: 0.4864311315924219,\n",
       " 1075: 0.5193037974683544,\n",
       " 1076: 0.5625811607232045,\n",
       " 1077: 0.3333333333333333,\n",
       " 1078: 0.5005704677835825,\n",
       " 1079: 0.608156737305078,\n",
       " 1080: 0.392090395480226,\n",
       " 1081: 0.7494252873563219,\n",
       " 1082: 0.6892230576441103,\n",
       " 1083: 0.5919137466307277,\n",
       " 1084: 0.6952380952380952,\n",
       " 1085: 0.24382284382284383,\n",
       " 1086: 0.3445241511238642,\n",
       " 1087: 0.5714285714285714,\n",
       " 1088: 0.43956043956043955,\n",
       " 1089: 0.7472527472527473,\n",
       " 1090: 0.6282051282051282,\n",
       " 1091: 0.6736842105263158,\n",
       " 1092: 0.5224489795918368,\n",
       " 1093: 0.5555555555555556,\n",
       " 1094: 0.5272727272727272,\n",
       " 1095: 0.4166666666666667,\n",
       " 1096: 0,\n",
       " 1097: 0.7714285714285715,\n",
       " 1098: 0.383399209486166,\n",
       " 1099: 0.7155844155844155,\n",
       " 1100: 0.6349206349206349,\n",
       " 1101: 0.5656404105024657,\n",
       " 1102: 0.7262745098039216,\n",
       " 1103: 0.7142857142857143,\n",
       " 1104: 0.4196398233095481,\n",
       " 1105: 0.8333333333333334,\n",
       " 1106: 0.3247863247863248,\n",
       " 1107: 0.5358662613981763,\n",
       " 1108: 0.8062015503875969,\n",
       " 1109: 0.49786628733997157,\n",
       " 1110: 0.4509316770186335,\n",
       " 1111: 0.9722222222222222,\n",
       " 1112: 0.686932215234102,\n",
       " 1113: 0.5254394079555966,\n",
       " 1114: 0.4438122332859175,\n",
       " 1115: 0.7714285714285715,\n",
       " 1116: 0.6748768472906403,\n",
       " 1117: 0.5699769678905298,\n",
       " 1118: 0.8067226890756303,\n",
       " 1119: 0,\n",
       " 1120: 0.6666666666666666,\n",
       " 1121: 0.6521739130434783,\n",
       " 1122: 0.5357142857142857,\n",
       " 1123: 0.45593561368209257,\n",
       " 1124: 0.4381633870005963,\n",
       " 1125: 0.6220159151193634,\n",
       " 1126: 0.46500538378710965,\n",
       " 1127: 0.44285714285714284,\n",
       " 1128: 0.5615400799495056,\n",
       " 1129: 0.6672316384180791,\n",
       " 1130: 0.6051282051282051,\n",
       " 1131: 0.4959677419354839,\n",
       " 1132: 0.557187094196384,\n",
       " 1133: 0.6666666666666666,\n",
       " 1134: 0.6363636363636364,\n",
       " 1135: 0.5930640913081651,\n",
       " 1136: 0.5492424242424242,\n",
       " 1137: 0.8349753694581281,\n",
       " 1138: 0.5274725274725275,\n",
       " 1139: 0.6268115942028986,\n",
       " 1140: 0.6944444444444444,\n",
       " 1141: 0.6928104575163399,\n",
       " 1142: 0.615530303030303,\n",
       " 1143: 0.4065934065934066,\n",
       " 1144: 0.7047619047619048,\n",
       " 1145: 0,\n",
       " 1146: 0.515422607399124,\n",
       " 1147: 0.5,\n",
       " 1148: 0.5735576923076923,\n",
       " 1149: 0.5901766647252961,\n",
       " 1150: 0.6263736263736264,\n",
       " 1151: 0.3333333333333333,\n",
       " 1152: 0.6544117647058824,\n",
       " 1153: 0.5581274111145866,\n",
       " 1154: 0.5,\n",
       " 1155: 0.44747474747474747,\n",
       " 1156: 0.5380333951762524,\n",
       " 1157: 0.8,\n",
       " 1158: 0.5412587412587413,\n",
       " 1159: 0.3819672131147541,\n",
       " 1160: 0.5613897596656218,\n",
       " 1161: 0.4327485380116959,\n",
       " 1162: 0.6785714285714286,\n",
       " 1163: 0.656969696969697,\n",
       " 1164: 0.7749287749287749,\n",
       " 1165: 0.24615384615384617,\n",
       " 1166: 0.5131578947368421,\n",
       " 1167: 0.6031746031746031,\n",
       " 1168: 0.5333333333333333,\n",
       " 1169: 0.6198830409356725,\n",
       " 1170: 0.32857142857142857,\n",
       " 1171: 0.18478260869565216,\n",
       " 1172: 0.6098293299620733,\n",
       " 1173: 0.44912280701754387,\n",
       " 1174: 0.7189542483660131,\n",
       " 1175: 0.4511913023363405,\n",
       " 1176: 1.0,\n",
       " 1177: 0.4380952380952381,\n",
       " 1178: 0.46153846153846156,\n",
       " 1179: 0.602020202020202,\n",
       " 1180: 0.6676767676767676,\n",
       " 1181: 0.693564862104188,\n",
       " 1182: 0.6461538461538462,\n",
       " 1183: 0.48128342245989303,\n",
       " 1184: 0.5323712005160042,\n",
       " 1185: 0.5531017369727047,\n",
       " 1186: 0.9485294117647058,\n",
       " 1187: 0.6,\n",
       " 1188: 0.6471774193548387,\n",
       " 1189: 0.4267425320056899,\n",
       " 1190: 0.7611336032388664,\n",
       " 1191: 0.5347789824854045,\n",
       " 1192: 0.47100515463917525,\n",
       " 1193: 0.3055555555555556,\n",
       " 1194: 0.6666666666666666,\n",
       " 1195: 0.66921768707483,\n",
       " 1196: 0.6061538461538462,\n",
       " 1197: 0.4095238095238095,\n",
       " 1198: 0.725242433147223,\n",
       " 1199: 0.4479006656426011,\n",
       " 1200: 0.6666666666666666,\n",
       " 1201: 0.6460980036297641,\n",
       " 1202: 0.3055555555555556,\n",
       " 1203: 0.7142857142857143,\n",
       " 1204: 0.43290424969141245,\n",
       " 1205: 0.5589205979421471,\n",
       " 1206: 0,\n",
       " 1207: 0.6815336463223787,\n",
       " 1208: 1.0,\n",
       " 1209: 0.6210526315789474,\n",
       " 1210: 0.4576923076923077,\n",
       " 1211: 0.5084016668907111,\n",
       " 1212: 0.5046153846153846,\n",
       " 1213: 0.6,\n",
       " 1214: 0.4680950163018165,\n",
       " 1215: 0.5459579180509413,\n",
       " 1216: 0.7666666666666667,\n",
       " 1217: 0.3561517113783534,\n",
       " 1218: 0.7636363636363637,\n",
       " 1219: 0.6484975541579315,\n",
       " 1220: 0.5277777777777778,\n",
       " 1221: 0.372635814889336,\n",
       " 1222: 0.4683847767455799,\n",
       " 1223: 0.341991341991342,\n",
       " 1224: 1.0,\n",
       " 1225: 0.6229885057471264,\n",
       " 1226: 0.42857142857142855,\n",
       " 1227: 0.5206540447504303,\n",
       " 1228: 0.5375494071146245,\n",
       " 1229: 0.61054579093432,\n",
       " 1230: 0.5563870967741935,\n",
       " 1231: 0.537578674564976,\n",
       " 1232: 0.8448275862068966,\n",
       " 1233: 1.0,\n",
       " 1234: 0.6857142857142857,\n",
       " 1235: 0.44507141597601835,\n",
       " 1236: 0.43410852713178294,\n",
       " 1237: 0.3751412429378531,\n",
       " 1238: 0.4648832345765075,\n",
       " 1239: 0.6944444444444444,\n",
       " 1240: 0.2857142857142857,\n",
       " 1241: 0.5526315789473685,\n",
       " 1242: 0.6355773726040206,\n",
       " 1243: 0.5535714285714286,\n",
       " 1244: 0.4393939393939394,\n",
       " 1245: 0.7551282051282051,\n",
       " 1246: 0.2823529411764706,\n",
       " 1247: 0.4855072463768116,\n",
       " 1248: 0.6071428571428571,\n",
       " 1249: 0.8,\n",
       " 1250: 0.5355302705023616,\n",
       " 1251: 0.8181818181818182,\n",
       " 1252: 1.0,\n",
       " 1253: 1.0,\n",
       " 1254: 0.6,\n",
       " 1255: 0.5507474429583006,\n",
       " 1256: 0.5213930348258706,\n",
       " 1257: 0.6787878787878788,\n",
       " 1258: 0.445993031358885,\n",
       " 1259: 0.4727104532839963,\n",
       " 1260: 0.6088193456614509,\n",
       " 1261: 0.5517998244073749,\n",
       " 1262: 1.0,\n",
       " 1263: 0.4666666666666667,\n",
       " 1264: 0.7,\n",
       " 1265: 0.5741935483870968,\n",
       " 1266: 0.7564102564102564,\n",
       " 1267: 0.623109243697479,\n",
       " 1268: 0.23636363636363636,\n",
       " 1269: 0.558984126984127,\n",
       " 1270: 1.0,\n",
       " 1271: 0.656578947368421,\n",
       " 1272: 0.5516351118760757,\n",
       " 1273: 0.4305555555555556,\n",
       " 1274: 0.4866666666666667,\n",
       " 1275: 0.43295739348370926,\n",
       " 1276: 1.0,\n",
       " 1277: 0.3952268554943614,\n",
       " 1278: 0.6793650793650794,\n",
       " 1279: 0.7484143763213531,\n",
       " 1280: 0.5743859649122807,\n",
       " 1281: 0.6743902439024391,\n",
       " 1282: 0.5864793678665496,\n",
       " 1283: 0.24798387096774194,\n",
       " 1284: 0.5751412429378531,\n",
       " 1285: 0.7784511784511785,\n",
       " 1286: 0.6126482213438735,\n",
       " 1287: 0.7249417249417249,\n",
       " 1288: 0.6619684663162924,\n",
       " 1289: 0.6647058823529411,\n",
       " 1290: 0.5479818230419674,\n",
       " 1291: 0.6123577749683944,\n",
       " 1292: 0.7111111111111111,\n",
       " 1293: 0.7012411347517731,\n",
       " 1294: 0.5844155844155844,\n",
       " 1295: 0.6,\n",
       " 1296: 0.5166666666666667,\n",
       " 1297: 0.8666666666666667,\n",
       " 1298: 0.6285714285714286,\n",
       " 1299: 0.6236559139784946,\n",
       " 1300: 0.6408602150537634,\n",
       " 1301: 0.5333333333333333,\n",
       " 1302: 0.6600246870040557,\n",
       " 1303: 0.5948581560283688,\n",
       " 1304: 0.40256045519203415,\n",
       " 1305: 0.49869305451829726,\n",
       " 1306: 0.5323076923076923,\n",
       " 1307: 0.567741935483871,\n",
       " 1308: 0.5736842105263158,\n",
       " 1309: 0.6921373200442967,\n",
       " 1310: 0.7207977207977208,\n",
       " 1311: 0.5507246376811594,\n",
       " 1312: 0.5588607594936709,\n",
       " 1313: 0.6149732620320856,\n",
       " 1314: 0.7630769230769231,\n",
       " 1315: 0.7272727272727273,\n",
       " 1316: 0.7983870967741935,\n",
       " 1317: 0.29523809523809524,\n",
       " 1318: 0.5804878048780487,\n",
       " 1319: 0.9202279202279202,\n",
       " 1320: 0.47966269841269843,\n",
       " 1321: 0.47333333333333333,\n",
       " 1322: 0.5273408239700375,\n",
       " 1323: 0.6151742993848257,\n",
       " 1324: 0.6833333333333333,\n",
       " 1325: 0.6601307189542484,\n",
       " 1326: 1.0,\n",
       " 1327: 0.3333333333333333,\n",
       " 1328: 0.6368421052631579,\n",
       " 1329: 0.4950980392156863,\n",
       " 1330: 0.5523641782956239,\n",
       " 1331: 0.5109116674539442,\n",
       " 1332: 0.5354239256678281,\n",
       " 1333: 0.8428030303030303,\n",
       " 1334: 0.4448484848484848,\n",
       " 1335: 0.6114665354330708,\n",
       " 1336: 0.7427609427609427,\n",
       " 1337: 0.24126984126984127,\n",
       " 1338: 0.35645302897278314,\n",
       " 1339: 0.6129292929292929,\n",
       " 1340: 0.6943164362519201,\n",
       " 1341: 0.5716380114620818,\n",
       " 1342: 0.6222222222222222,\n",
       " 1343: 0.32882882882882886,\n",
       " 1344: 0.6244200244200244,\n",
       " 1345: 0.5042955326460481,\n",
       " 1346: 1.0,\n",
       " 1347: 0.5435024065161052,\n",
       " 1348: 0.5690690690690691,\n",
       " 1349: 0.5423925667828107,\n",
       " 1350: 0.5776515151515151,\n",
       " 1351: 0.7476255088195387,\n",
       " 1352: 0.41157697810058325,\n",
       " 1353: 0.6666666666666666,\n",
       " 1354: 0.6,\n",
       " 1355: 0.6276276276276276,\n",
       " 1356: 0.5526315789473685,\n",
       " 1357: 0.3655913978494624,\n",
       " 1358: 0.42515379357484623,\n",
       " 1359: 0.5476190476190477,\n",
       " 1360: 0.43243243243243246,\n",
       " 1361: 0.452769428939459,\n",
       " 1362: 1.0,\n",
       " 1363: 0.8714285714285714,\n",
       " 1364: 0.7424242424242424,\n",
       " 1365: 0.6492450638792102,\n",
       " 1366: 0.35291375291375293,\n",
       " 1367: 0.5036874771814531,\n",
       " 1368: 0.8444444444444444,\n",
       " 1369: 0.2895500725689405,\n",
       " 1370: 0.6283783783783784,\n",
       " 1371: 0.581081081081081,\n",
       " 1372: 1.0,\n",
       " 1373: 0.4520547945205479,\n",
       " 1374: 0.6178861788617886,\n",
       " 1375: 0.6508700481303221,\n",
       " 1376: 0.48454860057070004,\n",
       " 1377: 0.4536897800055695,\n",
       " 1378: 0.8548387096774194,\n",
       " 1379: 0.7803921568627451,\n",
       " 1380: 0.6700280112044817,\n",
       " 1381: 0.8319088319088319,\n",
       " 1382: 0.8402439024390244,\n",
       " 1383: 1.0,\n",
       " 1384: 0.3939393939393939,\n",
       " 1385: 0.38095238095238093,\n",
       " 1386: 0,\n",
       " 1387: 0.5,\n",
       " 1388: 0.580895008605852,\n",
       " 1389: 0.7478260869565218,\n",
       " 1390: 0.47544257340241797,\n",
       " 1391: 0.4729720853858785,\n",
       " 1392: 0.6876876876876877,\n",
       " 1393: 0.5014513788098693,\n",
       " 1394: 1.0,\n",
       " 1395: 1.0,\n",
       " 1396: 0.740041928721174,\n",
       " 1397: 0.625,\n",
       " 1398: 0.587737843551797,\n",
       " 1399: 0.5084110962991176,\n",
       " 1400: 0.6623376623376623,\n",
       " 1401: 0.7878787878787878,\n",
       " 1402: 0.6253239540910773,\n",
       " 1403: 1.0,\n",
       " 1404: 0.6971428571428572,\n",
       " 1405: 0.28816326530612246,\n",
       " 1406: 0.7483870967741936,\n",
       " 1407: 0.551051051051051,\n",
       " 1408: 0.3850267379679144,\n",
       " 1409: 0.465947888589398,\n",
       " 1410: 0.6904761904761905,\n",
       " 1411: 0.6666666666666666,\n",
       " 1412: 0.42424242424242425,\n",
       " 1413: 0.6135593220338983,\n",
       " 1414: 0.9642857142857143,\n",
       " 1415: 0.5632183908045977,\n",
       " 1416: 0.604095004095004,\n",
       " 1417: 0.7,\n",
       " 1418: 0.4523809523809524,\n",
       " 1419: 0.23550724637681159,\n",
       " 1420: 0.4974259974259974,\n",
       " 1421: 0.6014492753623188,\n",
       " 1422: 0.4835164835164835,\n",
       " 1423: 0.5841530054644809,\n",
       " 1424: 0.6374269005847953,\n",
       " 1425: 0.3689839572192513,\n",
       " 1426: 0.625,\n",
       " 1427: 0.3361305361305361,\n",
       " 1428: 0.49261083743842365,\n",
       " 1429: 0.4182076813655761,\n",
       " 1430: 1.0,\n",
       " 1431: 0.43341635533416356,\n",
       " 1432: 0.6202020202020202,\n",
       " 1433: 0.6877470355731226,\n",
       " 1434: 0.5714285714285714,\n",
       " 1435: 0.32142857142857145,\n",
       " 1436: 0.3080459770114943,\n",
       " 1437: 0.5025974025974026,\n",
       " 1438: 0.8163992869875223,\n",
       " 1439: 0.9428571428571428,\n",
       " 1440: 0.36507936507936506,\n",
       " 1441: 0.6166666666666667,\n",
       " 1442: 0.8,\n",
       " 1443: 0.8333333333333334,\n",
       " 1444: 0.4959677419354839,\n",
       " 1445: 0.5277777777777778,\n",
       " 1446: 0.5682539682539682,\n",
       " 1447: 0.496753571071821,\n",
       " 1448: 0.6380090497737556,\n",
       " 1449: 0.5710362047440699,\n",
       " 1450: 0.3201581027667984,\n",
       " 1451: 0.7591397849462366,\n",
       " 1452: 0.7878787878787878,\n",
       " 1453: 0.3888888888888889,\n",
       " 1454: 0.669683257918552,\n",
       " 1455: 1.0,\n",
       " 1456: 0.5604904001850567,\n",
       " 1457: 0.7371760973030143,\n",
       " 1458: 0.4166666666666667,\n",
       " 1459: 0.45680450397980976,\n",
       " 1460: 0.4579710144927536,\n",
       " 1461: 0.6428571428571429,\n",
       " 1462: 0.595811818703385,\n",
       " 1463: 0.7333333333333333,\n",
       " 1464: 0.5969230769230769,\n",
       " 1465: 0.553478712357217,\n",
       " 1466: 0,\n",
       " 1467: 0.535929714135851,\n",
       " 1468: 0.8602150537634409,\n",
       " 1469: 0.36779448621553884,\n",
       " 1470: 0.5653923541247485,\n",
       " 1471: 0.4845731191885038,\n",
       " 1472: 0.3041198501872659,\n",
       " 1473: 0.2578616352201258,\n",
       " 1474: 0.8333333333333334,\n",
       " 1475: 0.5140845070422535,\n",
       " 1476: 0.7,\n",
       " 1477: 0.3888888888888889,\n",
       " 1478: 0.6985294117647058,\n",
       " 1479: 0.551061388410786,\n",
       " 1480: 0.44413277232351567,\n",
       " 1481: 0.5588235294117647,\n",
       " 1482: 0.4651360544217687,\n",
       " 1483: 0.5396929824561404,\n",
       " 1484: 0.5844155844155844,\n",
       " 1485: 0.5661424606845513,\n",
       " 1486: 1.0,\n",
       " 1487: 0.2805939580133128,\n",
       " 1488: 0.5253731343283582,\n",
       " 1489: 0.7835497835497836,\n",
       " 1490: 0.9444444444444444,\n",
       " 1491: 0.6193548387096774,\n",
       " 1492: 0.5,\n",
       " 1493: 0.9261538461538461,\n",
       " 1494: 0.6184615384615385,\n",
       " 1495: 0.5291723202170964,\n",
       " 1496: 0.4450354609929078,\n",
       " 1497: 0.4088669950738916,\n",
       " 1498: 0.6666666666666666,\n",
       " 1499: 0.6666666666666666,\n",
       " 1500: 0.5344827586206896,\n",
       " 1501: 0.4444444444444444,\n",
       " 1502: 0.43933747412008284,\n",
       " 1503: 0.6296296296296297,\n",
       " 1504: 0.4337568058076225,\n",
       " 1505: 0.12039742840444184,\n",
       " 1506: 0.9285714285714286,\n",
       " 1507: 0.527027027027027,\n",
       " 1508: 0.8390151515151515,\n",
       " 1509: 0.5201409277745156,\n",
       " 1510: 0.8333333333333334,\n",
       " 1511: 0.5655172413793104,\n",
       " 1512: 0.5668449197860963,\n",
       " 1513: 0.44720965309200605,\n",
       " ...}"
      ]
     },
     "execution_count": 87,
     "metadata": {},
     "output_type": "execute_result"
    }
   ],
   "source": [
    "clusteringMetric"
   ]
  },
  {
   "cell_type": "code",
   "execution_count": null,
   "metadata": {},
   "outputs": [],
   "source": []
  },
  {
   "cell_type": "code",
   "execution_count": null,
   "metadata": {},
   "outputs": [],
   "source": []
  },
  {
   "cell_type": "code",
   "execution_count": null,
   "metadata": {},
   "outputs": [],
   "source": []
  },
  {
   "cell_type": "code",
   "execution_count": null,
   "metadata": {},
   "outputs": [],
   "source": []
  },
  {
   "cell_type": "code",
   "execution_count": null,
   "metadata": {},
   "outputs": [],
   "source": []
  },
  {
   "cell_type": "code",
   "execution_count": null,
   "metadata": {},
   "outputs": [],
   "source": []
  }
 ],
 "metadata": {
  "kernelspec": {
   "display_name": "Python 3",
   "language": "python",
   "name": "python3"
  },
  "language_info": {
   "codemirror_mode": {
    "name": "ipython",
    "version": 3
   },
   "file_extension": ".py",
   "mimetype": "text/x-python",
   "name": "python",
   "nbconvert_exporter": "python",
   "pygments_lexer": "ipython3",
   "version": "3.6.8"
  }
 },
 "nbformat": 4,
 "nbformat_minor": 2
}
